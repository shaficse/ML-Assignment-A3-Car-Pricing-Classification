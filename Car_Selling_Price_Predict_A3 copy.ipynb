{
 "cells": [
  {
   "cell_type": "markdown",
   "id": "60796b95",
   "metadata": {},
   "source": [
    "# A2 Predicting Car Price\n",
    "\n",
    "In this assignment, We need to predict the **selling price for a car** . Finally we also need to prepare a simple web-based car selling price prediction system for deployment.\n",
    "\n",
    "## The provide raw data contains following features- \n",
    "\n",
    "- **name** : Brand name of the Car\n",
    "- **Year** : Year of the car made\n",
    "- **selling_price**: Selling price of the car\n",
    "- **km_driven**: How many Killometers A car already run\n",
    "- **fuel**: Type of fuel is used in car\n",
    "- **seller_type**: Type of seller (Invididual, Dealer etc)\n",
    "- **transmission**: Type of transmission of car ( Manual, Automatic)\n",
    "- **owner**: How many owner already did purchase of a car\n",
    "- **mileage**: Mileage of the car\n",
    "- **engine**: Engine size\n",
    "- **max_power**: The max power is available to a car\n",
    "- **torque**:if an engine has a lot of torque, the car can accelerate more quickly.\n",
    "- **seats**: Number of seats are availabe to a car\n",
    "\n",
    "This raw dataset is required to be processed on given preporessing conditions\n"
   ]
  },
  {
   "cell_type": "markdown",
   "id": "c32a35ac",
   "metadata": {},
   "source": [
    "## Importing libraries"
   ]
  },
  {
   "cell_type": "code",
   "execution_count": 924,
   "id": "67955aea",
   "metadata": {},
   "outputs": [],
   "source": [
    "import datetime\n",
    "import numpy as np\n",
    "import pandas as pd\n",
    "import seaborn as sns\n",
    "import matplotlib.pyplot as plt\n",
    "from sklearn.preprocessing import LabelEncoder\n",
    "import warnings\n",
    "warnings.filterwarnings('ignore')"
   ]
  },
  {
   "cell_type": "code",
   "execution_count": 925,
   "id": "f25c8be2",
   "metadata": {},
   "outputs": [
    {
     "data": {
      "text/plain": [
       "('1.24.4', '1.5.3', '0.12.2', '3.7.3')"
      ]
     },
     "execution_count": 925,
     "metadata": {},
     "output_type": "execute_result"
    }
   ],
   "source": [
    "import matplotlib\n",
    "np.__version__, pd.__version__, sns.__version__, matplotlib.__version__"
   ]
  },
  {
   "cell_type": "markdown",
   "id": "7b1872f9",
   "metadata": {},
   "source": [
    "## 1. Load data"
   ]
  },
  {
   "cell_type": "code",
   "execution_count": 926,
   "id": "71852235",
   "metadata": {},
   "outputs": [],
   "source": [
    "# Read the CSV file 'Cars - Cars.csv' and store it in a data frame called 'df'\n",
    "df = pd.read_csv('data/Cars.csv')"
   ]
  },
  {
   "cell_type": "code",
   "execution_count": 927,
   "id": "ea43bf11",
   "metadata": {},
   "outputs": [
    {
     "data": {
      "text/html": [
       "<div>\n",
       "<style scoped>\n",
       "    .dataframe tbody tr th:only-of-type {\n",
       "        vertical-align: middle;\n",
       "    }\n",
       "\n",
       "    .dataframe tbody tr th {\n",
       "        vertical-align: top;\n",
       "    }\n",
       "\n",
       "    .dataframe thead th {\n",
       "        text-align: right;\n",
       "    }\n",
       "</style>\n",
       "<table border=\"1\" class=\"dataframe\">\n",
       "  <thead>\n",
       "    <tr style=\"text-align: right;\">\n",
       "      <th></th>\n",
       "      <th>name</th>\n",
       "      <th>year</th>\n",
       "      <th>selling_price</th>\n",
       "      <th>km_driven</th>\n",
       "      <th>fuel</th>\n",
       "      <th>seller_type</th>\n",
       "      <th>transmission</th>\n",
       "      <th>owner</th>\n",
       "      <th>mileage</th>\n",
       "      <th>engine</th>\n",
       "      <th>max_power</th>\n",
       "      <th>torque</th>\n",
       "      <th>seats</th>\n",
       "    </tr>\n",
       "  </thead>\n",
       "  <tbody>\n",
       "    <tr>\n",
       "      <th>0</th>\n",
       "      <td>Maruti Swift Dzire VDI</td>\n",
       "      <td>2014</td>\n",
       "      <td>450000</td>\n",
       "      <td>145500</td>\n",
       "      <td>Diesel</td>\n",
       "      <td>Individual</td>\n",
       "      <td>Manual</td>\n",
       "      <td>First Owner</td>\n",
       "      <td>23.4 kmpl</td>\n",
       "      <td>1248 CC</td>\n",
       "      <td>74 bhp</td>\n",
       "      <td>190Nm@ 2000rpm</td>\n",
       "      <td>5.0</td>\n",
       "    </tr>\n",
       "    <tr>\n",
       "      <th>1</th>\n",
       "      <td>Skoda Rapid 1.5 TDI Ambition</td>\n",
       "      <td>2014</td>\n",
       "      <td>370000</td>\n",
       "      <td>120000</td>\n",
       "      <td>Diesel</td>\n",
       "      <td>Individual</td>\n",
       "      <td>Manual</td>\n",
       "      <td>Second Owner</td>\n",
       "      <td>21.14 kmpl</td>\n",
       "      <td>1498 CC</td>\n",
       "      <td>103.52 bhp</td>\n",
       "      <td>250Nm@ 1500-2500rpm</td>\n",
       "      <td>5.0</td>\n",
       "    </tr>\n",
       "    <tr>\n",
       "      <th>2</th>\n",
       "      <td>Honda City 2017-2020 EXi</td>\n",
       "      <td>2006</td>\n",
       "      <td>158000</td>\n",
       "      <td>140000</td>\n",
       "      <td>Petrol</td>\n",
       "      <td>Individual</td>\n",
       "      <td>Manual</td>\n",
       "      <td>Third Owner</td>\n",
       "      <td>17.7 kmpl</td>\n",
       "      <td>1497 CC</td>\n",
       "      <td>78 bhp</td>\n",
       "      <td>12.7@ 2,700(kgm@ rpm)</td>\n",
       "      <td>5.0</td>\n",
       "    </tr>\n",
       "    <tr>\n",
       "      <th>3</th>\n",
       "      <td>Hyundai i20 Sportz Diesel</td>\n",
       "      <td>2010</td>\n",
       "      <td>225000</td>\n",
       "      <td>127000</td>\n",
       "      <td>Diesel</td>\n",
       "      <td>Individual</td>\n",
       "      <td>Manual</td>\n",
       "      <td>First Owner</td>\n",
       "      <td>23.0 kmpl</td>\n",
       "      <td>1396 CC</td>\n",
       "      <td>90 bhp</td>\n",
       "      <td>22.4 kgm at 1750-2750rpm</td>\n",
       "      <td>5.0</td>\n",
       "    </tr>\n",
       "    <tr>\n",
       "      <th>4</th>\n",
       "      <td>Maruti Swift VXI BSIII</td>\n",
       "      <td>2007</td>\n",
       "      <td>130000</td>\n",
       "      <td>120000</td>\n",
       "      <td>Petrol</td>\n",
       "      <td>Individual</td>\n",
       "      <td>Manual</td>\n",
       "      <td>First Owner</td>\n",
       "      <td>16.1 kmpl</td>\n",
       "      <td>1298 CC</td>\n",
       "      <td>88.2 bhp</td>\n",
       "      <td>11.5@ 4,500(kgm@ rpm)</td>\n",
       "      <td>5.0</td>\n",
       "    </tr>\n",
       "  </tbody>\n",
       "</table>\n",
       "</div>"
      ],
      "text/plain": [
       "                           name  year  selling_price  km_driven    fuel  \\\n",
       "0        Maruti Swift Dzire VDI  2014         450000     145500  Diesel   \n",
       "1  Skoda Rapid 1.5 TDI Ambition  2014         370000     120000  Diesel   \n",
       "2      Honda City 2017-2020 EXi  2006         158000     140000  Petrol   \n",
       "3     Hyundai i20 Sportz Diesel  2010         225000     127000  Diesel   \n",
       "4        Maruti Swift VXI BSIII  2007         130000     120000  Petrol   \n",
       "\n",
       "  seller_type transmission         owner     mileage   engine   max_power  \\\n",
       "0  Individual       Manual   First Owner   23.4 kmpl  1248 CC      74 bhp   \n",
       "1  Individual       Manual  Second Owner  21.14 kmpl  1498 CC  103.52 bhp   \n",
       "2  Individual       Manual   Third Owner   17.7 kmpl  1497 CC      78 bhp   \n",
       "3  Individual       Manual   First Owner   23.0 kmpl  1396 CC      90 bhp   \n",
       "4  Individual       Manual   First Owner   16.1 kmpl  1298 CC    88.2 bhp   \n",
       "\n",
       "                     torque  seats  \n",
       "0            190Nm@ 2000rpm    5.0  \n",
       "1       250Nm@ 1500-2500rpm    5.0  \n",
       "2     12.7@ 2,700(kgm@ rpm)    5.0  \n",
       "3  22.4 kgm at 1750-2750rpm    5.0  \n",
       "4     11.5@ 4,500(kgm@ rpm)    5.0  "
      ]
     },
     "execution_count": 927,
     "metadata": {},
     "output_type": "execute_result"
    }
   ],
   "source": [
    "# Display the first few rows of the DataFrame 'df' to get a quick overview of the data\n",
    "df.head()"
   ]
  },
  {
   "cell_type": "code",
   "execution_count": 928,
   "id": "a1c434fc",
   "metadata": {},
   "outputs": [
    {
     "data": {
      "text/plain": [
       "(8128, 13)"
      ]
     },
     "execution_count": 928,
     "metadata": {},
     "output_type": "execute_result"
    }
   ],
   "source": [
    "# Get the dimensions of the DataFrame 'df' using the shape attribute\n",
    "df.shape"
   ]
  },
  {
   "cell_type": "code",
   "execution_count": 929,
   "id": "6e866949",
   "metadata": {},
   "outputs": [
    {
     "data": {
      "text/html": [
       "<div>\n",
       "<style scoped>\n",
       "    .dataframe tbody tr th:only-of-type {\n",
       "        vertical-align: middle;\n",
       "    }\n",
       "\n",
       "    .dataframe tbody tr th {\n",
       "        vertical-align: top;\n",
       "    }\n",
       "\n",
       "    .dataframe thead th {\n",
       "        text-align: right;\n",
       "    }\n",
       "</style>\n",
       "<table border=\"1\" class=\"dataframe\">\n",
       "  <thead>\n",
       "    <tr style=\"text-align: right;\">\n",
       "      <th></th>\n",
       "      <th>year</th>\n",
       "      <th>selling_price</th>\n",
       "      <th>km_driven</th>\n",
       "      <th>seats</th>\n",
       "    </tr>\n",
       "  </thead>\n",
       "  <tbody>\n",
       "    <tr>\n",
       "      <th>count</th>\n",
       "      <td>8128.000000</td>\n",
       "      <td>8.128000e+03</td>\n",
       "      <td>8.128000e+03</td>\n",
       "      <td>7907.000000</td>\n",
       "    </tr>\n",
       "    <tr>\n",
       "      <th>mean</th>\n",
       "      <td>2013.804011</td>\n",
       "      <td>6.382718e+05</td>\n",
       "      <td>6.981951e+04</td>\n",
       "      <td>5.416719</td>\n",
       "    </tr>\n",
       "    <tr>\n",
       "      <th>std</th>\n",
       "      <td>4.044249</td>\n",
       "      <td>8.062534e+05</td>\n",
       "      <td>5.655055e+04</td>\n",
       "      <td>0.959588</td>\n",
       "    </tr>\n",
       "    <tr>\n",
       "      <th>min</th>\n",
       "      <td>1983.000000</td>\n",
       "      <td>2.999900e+04</td>\n",
       "      <td>1.000000e+00</td>\n",
       "      <td>2.000000</td>\n",
       "    </tr>\n",
       "    <tr>\n",
       "      <th>25%</th>\n",
       "      <td>2011.000000</td>\n",
       "      <td>2.549990e+05</td>\n",
       "      <td>3.500000e+04</td>\n",
       "      <td>5.000000</td>\n",
       "    </tr>\n",
       "    <tr>\n",
       "      <th>50%</th>\n",
       "      <td>2015.000000</td>\n",
       "      <td>4.500000e+05</td>\n",
       "      <td>6.000000e+04</td>\n",
       "      <td>5.000000</td>\n",
       "    </tr>\n",
       "    <tr>\n",
       "      <th>75%</th>\n",
       "      <td>2017.000000</td>\n",
       "      <td>6.750000e+05</td>\n",
       "      <td>9.800000e+04</td>\n",
       "      <td>5.000000</td>\n",
       "    </tr>\n",
       "    <tr>\n",
       "      <th>max</th>\n",
       "      <td>2020.000000</td>\n",
       "      <td>1.000000e+07</td>\n",
       "      <td>2.360457e+06</td>\n",
       "      <td>14.000000</td>\n",
       "    </tr>\n",
       "  </tbody>\n",
       "</table>\n",
       "</div>"
      ],
      "text/plain": [
       "              year  selling_price     km_driven        seats\n",
       "count  8128.000000   8.128000e+03  8.128000e+03  7907.000000\n",
       "mean   2013.804011   6.382718e+05  6.981951e+04     5.416719\n",
       "std       4.044249   8.062534e+05  5.655055e+04     0.959588\n",
       "min    1983.000000   2.999900e+04  1.000000e+00     2.000000\n",
       "25%    2011.000000   2.549990e+05  3.500000e+04     5.000000\n",
       "50%    2015.000000   4.500000e+05  6.000000e+04     5.000000\n",
       "75%    2017.000000   6.750000e+05  9.800000e+04     5.000000\n",
       "max    2020.000000   1.000000e+07  2.360457e+06    14.000000"
      ]
     },
     "execution_count": 929,
     "metadata": {},
     "output_type": "execute_result"
    }
   ],
   "source": [
    "# Generate descriptive statistics of the DataFrame 'df' using the describe() function\n",
    "df.describe()"
   ]
  },
  {
   "cell_type": "code",
   "execution_count": 930,
   "id": "261dac17",
   "metadata": {},
   "outputs": [
    {
     "name": "stdout",
     "output_type": "stream",
     "text": [
      "<class 'pandas.core.frame.DataFrame'>\n",
      "RangeIndex: 8128 entries, 0 to 8127\n",
      "Data columns (total 13 columns):\n",
      " #   Column         Non-Null Count  Dtype  \n",
      "---  ------         --------------  -----  \n",
      " 0   name           8128 non-null   object \n",
      " 1   year           8128 non-null   int64  \n",
      " 2   selling_price  8128 non-null   int64  \n",
      " 3   km_driven      8128 non-null   int64  \n",
      " 4   fuel           8128 non-null   object \n",
      " 5   seller_type    8128 non-null   object \n",
      " 6   transmission   8128 non-null   object \n",
      " 7   owner          8128 non-null   object \n",
      " 8   mileage        7907 non-null   object \n",
      " 9   engine         7907 non-null   object \n",
      " 10  max_power      7913 non-null   object \n",
      " 11  torque         7906 non-null   object \n",
      " 12  seats          7907 non-null   float64\n",
      "dtypes: float64(1), int64(3), object(9)\n",
      "memory usage: 825.6+ KB\n"
     ]
    }
   ],
   "source": [
    "# Display information about the DataFrame 'df', including data types and memory usage\n",
    "df.info()"
   ]
  },
  {
   "cell_type": "code",
   "execution_count": 931,
   "id": "fcdb593e",
   "metadata": {},
   "outputs": [
    {
     "name": "stdout",
     "output_type": "stream",
     "text": [
      "{'First Owner': 1, 'Second Owner': 2, 'Third Owner': 3, 'Fourth & Above Owner': 4, 'Test Drive Car': 5}\n"
     ]
    },
    {
     "data": {
      "text/html": [
       "<div>\n",
       "<style scoped>\n",
       "    .dataframe tbody tr th:only-of-type {\n",
       "        vertical-align: middle;\n",
       "    }\n",
       "\n",
       "    .dataframe tbody tr th {\n",
       "        vertical-align: top;\n",
       "    }\n",
       "\n",
       "    .dataframe thead th {\n",
       "        text-align: right;\n",
       "    }\n",
       "</style>\n",
       "<table border=\"1\" class=\"dataframe\">\n",
       "  <thead>\n",
       "    <tr style=\"text-align: right;\">\n",
       "      <th></th>\n",
       "      <th>name</th>\n",
       "      <th>year</th>\n",
       "      <th>selling_price</th>\n",
       "      <th>km_driven</th>\n",
       "      <th>fuel</th>\n",
       "      <th>seller_type</th>\n",
       "      <th>transmission</th>\n",
       "      <th>owner</th>\n",
       "      <th>mileage</th>\n",
       "      <th>engine</th>\n",
       "      <th>max_power</th>\n",
       "      <th>torque</th>\n",
       "      <th>seats</th>\n",
       "    </tr>\n",
       "  </thead>\n",
       "  <tbody>\n",
       "    <tr>\n",
       "      <th>0</th>\n",
       "      <td>Maruti Swift Dzire VDI</td>\n",
       "      <td>2014</td>\n",
       "      <td>450000</td>\n",
       "      <td>145500</td>\n",
       "      <td>Diesel</td>\n",
       "      <td>Individual</td>\n",
       "      <td>Manual</td>\n",
       "      <td>1</td>\n",
       "      <td>23.4 kmpl</td>\n",
       "      <td>1248 CC</td>\n",
       "      <td>74 bhp</td>\n",
       "      <td>190Nm@ 2000rpm</td>\n",
       "      <td>5.0</td>\n",
       "    </tr>\n",
       "    <tr>\n",
       "      <th>1</th>\n",
       "      <td>Skoda Rapid 1.5 TDI Ambition</td>\n",
       "      <td>2014</td>\n",
       "      <td>370000</td>\n",
       "      <td>120000</td>\n",
       "      <td>Diesel</td>\n",
       "      <td>Individual</td>\n",
       "      <td>Manual</td>\n",
       "      <td>2</td>\n",
       "      <td>21.14 kmpl</td>\n",
       "      <td>1498 CC</td>\n",
       "      <td>103.52 bhp</td>\n",
       "      <td>250Nm@ 1500-2500rpm</td>\n",
       "      <td>5.0</td>\n",
       "    </tr>\n",
       "    <tr>\n",
       "      <th>2</th>\n",
       "      <td>Honda City 2017-2020 EXi</td>\n",
       "      <td>2006</td>\n",
       "      <td>158000</td>\n",
       "      <td>140000</td>\n",
       "      <td>Petrol</td>\n",
       "      <td>Individual</td>\n",
       "      <td>Manual</td>\n",
       "      <td>3</td>\n",
       "      <td>17.7 kmpl</td>\n",
       "      <td>1497 CC</td>\n",
       "      <td>78 bhp</td>\n",
       "      <td>12.7@ 2,700(kgm@ rpm)</td>\n",
       "      <td>5.0</td>\n",
       "    </tr>\n",
       "    <tr>\n",
       "      <th>3</th>\n",
       "      <td>Hyundai i20 Sportz Diesel</td>\n",
       "      <td>2010</td>\n",
       "      <td>225000</td>\n",
       "      <td>127000</td>\n",
       "      <td>Diesel</td>\n",
       "      <td>Individual</td>\n",
       "      <td>Manual</td>\n",
       "      <td>1</td>\n",
       "      <td>23.0 kmpl</td>\n",
       "      <td>1396 CC</td>\n",
       "      <td>90 bhp</td>\n",
       "      <td>22.4 kgm at 1750-2750rpm</td>\n",
       "      <td>5.0</td>\n",
       "    </tr>\n",
       "    <tr>\n",
       "      <th>4</th>\n",
       "      <td>Maruti Swift VXI BSIII</td>\n",
       "      <td>2007</td>\n",
       "      <td>130000</td>\n",
       "      <td>120000</td>\n",
       "      <td>Petrol</td>\n",
       "      <td>Individual</td>\n",
       "      <td>Manual</td>\n",
       "      <td>1</td>\n",
       "      <td>16.1 kmpl</td>\n",
       "      <td>1298 CC</td>\n",
       "      <td>88.2 bhp</td>\n",
       "      <td>11.5@ 4,500(kgm@ rpm)</td>\n",
       "      <td>5.0</td>\n",
       "    </tr>\n",
       "  </tbody>\n",
       "</table>\n",
       "</div>"
      ],
      "text/plain": [
       "                           name  year  selling_price  km_driven    fuel  \\\n",
       "0        Maruti Swift Dzire VDI  2014         450000     145500  Diesel   \n",
       "1  Skoda Rapid 1.5 TDI Ambition  2014         370000     120000  Diesel   \n",
       "2      Honda City 2017-2020 EXi  2006         158000     140000  Petrol   \n",
       "3     Hyundai i20 Sportz Diesel  2010         225000     127000  Diesel   \n",
       "4        Maruti Swift VXI BSIII  2007         130000     120000  Petrol   \n",
       "\n",
       "  seller_type transmission  owner     mileage   engine   max_power  \\\n",
       "0  Individual       Manual      1   23.4 kmpl  1248 CC      74 bhp   \n",
       "1  Individual       Manual      2  21.14 kmpl  1498 CC  103.52 bhp   \n",
       "2  Individual       Manual      3   17.7 kmpl  1497 CC      78 bhp   \n",
       "3  Individual       Manual      1   23.0 kmpl  1396 CC      90 bhp   \n",
       "4  Individual       Manual      1   16.1 kmpl  1298 CC    88.2 bhp   \n",
       "\n",
       "                     torque  seats  \n",
       "0            190Nm@ 2000rpm    5.0  \n",
       "1       250Nm@ 1500-2500rpm    5.0  \n",
       "2     12.7@ 2,700(kgm@ rpm)    5.0  \n",
       "3  22.4 kgm at 1750-2750rpm    5.0  \n",
       "4     11.5@ 4,500(kgm@ rpm)    5.0  "
      ]
     },
     "execution_count": 931,
     "metadata": {},
     "output_type": "execute_result"
    }
   ],
   "source": [
    "# Create a mapping of unique owner categories to numerical values\n",
    "category_mapping_owener = {category: index + 1 for index, category in enumerate(df['owner'].unique())}\n",
    "# Apply the mapping to the 'owner' column and update it with encoded values\n",
    "df['owner'] = df['owner'].map(category_mapping_owener)\n",
    "print(category_mapping_owener)\n",
    "df.head()"
   ]
  },
  {
   "cell_type": "code",
   "execution_count": 932,
   "id": "e96eef8a",
   "metadata": {},
   "outputs": [],
   "source": [
    "#lambda function in somewhere later we need to check the owner category original value\n",
    "get_key_by_value = lambda value: next((key for key, val in category_mapping_owener.items() if val == value), None)"
   ]
  },
  {
   "cell_type": "code",
   "execution_count": 933,
   "id": "8bfcaea5",
   "metadata": {},
   "outputs": [],
   "source": [
    "# Drop rows where 'fuel' column contains 'CNG' or 'LPG'\n",
    "df = df.drop(df[df['fuel'].isin(['CNG', 'LPG'])].index)\n"
   ]
  },
  {
   "cell_type": "code",
   "execution_count": 934,
   "id": "d9ea6dd0",
   "metadata": {},
   "outputs": [
    {
     "data": {
      "text/plain": [
       "0    23.40\n",
       "1    21.14\n",
       "2    17.70\n",
       "3    23.00\n",
       "4    16.10\n",
       "Name: mileage, dtype: float64"
      ]
     },
     "execution_count": 934,
     "metadata": {},
     "output_type": "execute_result"
    }
   ],
   "source": [
    "#For the feature mileage, remove “kmpl” and convert the column to numerical type (e.g., float)\n",
    "#Hint: usedf.mileage.str.split\n",
    "# Split the 'Mileage' string and convert the numeric part to float\n",
    "df['mileage'] = df['mileage'].str.split().str[0].astype(float)\n",
    "# Display the first few rows of the 'mileage' column in the DataFrame 'df' after modification\n",
    "df['mileage'].head()"
   ]
  },
  {
   "cell_type": "code",
   "execution_count": 935,
   "id": "727f249e",
   "metadata": {},
   "outputs": [],
   "source": [
    "#For the feature engine, remove “CC” and convert the column to numerical type (e.g., float)\n",
    "df['engine'] = df['engine'].str.split().str[0].astype(float)"
   ]
  },
  {
   "cell_type": "code",
   "execution_count": 936,
   "id": "51bd6d09",
   "metadata": {},
   "outputs": [],
   "source": [
    "#For the feature max_power, remove Text part and convert the column to numerical type (e.g., float)\n",
    "df['max_power'] = df['max_power'].str.split().str[0].astype(float)"
   ]
  },
  {
   "cell_type": "code",
   "execution_count": 937,
   "id": "0313ecc6",
   "metadata": {},
   "outputs": [],
   "source": [
    "# Rename the 'name' column to 'brand'\n",
    "df = df.rename(columns={'name':'brand'})\n",
    "\n",
    "# Extract the first word from the 'brand' column for each row\n",
    "df['brand'] = df['brand'].str.split().str[0]\n",
    "# The 'brand' column now contains only the first word of each brand name"
   ]
  },
  {
   "cell_type": "code",
   "execution_count": 938,
   "id": "a6de4e59",
   "metadata": {},
   "outputs": [],
   "source": [
    "#Drop the feature torque,\n",
    "df.drop('torque', axis=1,inplace=True)"
   ]
  },
  {
   "cell_type": "code",
   "execution_count": 939,
   "id": "9cf6ee0a",
   "metadata": {},
   "outputs": [],
   "source": [
    "# Drop rows where the 'owner' column contains the value 5 (Test Drive Car)\n",
    "df = df.drop(df[df['owner'].isin([5])].index)"
   ]
  },
  {
   "cell_type": "code",
   "execution_count": 940,
   "id": "41bc8385",
   "metadata": {},
   "outputs": [],
   "source": [
    "# Apply log transform to the 'selling_price' column\n",
    "df['selling_price'] = np.log(df['selling_price']) "
   ]
  },
  {
   "cell_type": "code",
   "execution_count": 941,
   "id": "222fbdd7",
   "metadata": {},
   "outputs": [
    {
     "data": {
      "text/html": [
       "<div>\n",
       "<style scoped>\n",
       "    .dataframe tbody tr th:only-of-type {\n",
       "        vertical-align: middle;\n",
       "    }\n",
       "\n",
       "    .dataframe tbody tr th {\n",
       "        vertical-align: top;\n",
       "    }\n",
       "\n",
       "    .dataframe thead th {\n",
       "        text-align: right;\n",
       "    }\n",
       "</style>\n",
       "<table border=\"1\" class=\"dataframe\">\n",
       "  <thead>\n",
       "    <tr style=\"text-align: right;\">\n",
       "      <th></th>\n",
       "      <th>brand</th>\n",
       "      <th>year</th>\n",
       "      <th>selling_price</th>\n",
       "      <th>km_driven</th>\n",
       "      <th>fuel</th>\n",
       "      <th>seller_type</th>\n",
       "      <th>transmission</th>\n",
       "      <th>owner</th>\n",
       "      <th>mileage</th>\n",
       "      <th>engine</th>\n",
       "      <th>max_power</th>\n",
       "      <th>seats</th>\n",
       "    </tr>\n",
       "  </thead>\n",
       "  <tbody>\n",
       "    <tr>\n",
       "      <th>0</th>\n",
       "      <td>Maruti</td>\n",
       "      <td>2014</td>\n",
       "      <td>13.017003</td>\n",
       "      <td>145500</td>\n",
       "      <td>Diesel</td>\n",
       "      <td>Individual</td>\n",
       "      <td>Manual</td>\n",
       "      <td>1</td>\n",
       "      <td>23.40</td>\n",
       "      <td>1248.0</td>\n",
       "      <td>74.00</td>\n",
       "      <td>5.0</td>\n",
       "    </tr>\n",
       "    <tr>\n",
       "      <th>1</th>\n",
       "      <td>Skoda</td>\n",
       "      <td>2014</td>\n",
       "      <td>12.821258</td>\n",
       "      <td>120000</td>\n",
       "      <td>Diesel</td>\n",
       "      <td>Individual</td>\n",
       "      <td>Manual</td>\n",
       "      <td>2</td>\n",
       "      <td>21.14</td>\n",
       "      <td>1498.0</td>\n",
       "      <td>103.52</td>\n",
       "      <td>5.0</td>\n",
       "    </tr>\n",
       "    <tr>\n",
       "      <th>2</th>\n",
       "      <td>Honda</td>\n",
       "      <td>2006</td>\n",
       "      <td>11.970350</td>\n",
       "      <td>140000</td>\n",
       "      <td>Petrol</td>\n",
       "      <td>Individual</td>\n",
       "      <td>Manual</td>\n",
       "      <td>3</td>\n",
       "      <td>17.70</td>\n",
       "      <td>1497.0</td>\n",
       "      <td>78.00</td>\n",
       "      <td>5.0</td>\n",
       "    </tr>\n",
       "    <tr>\n",
       "      <th>3</th>\n",
       "      <td>Hyundai</td>\n",
       "      <td>2010</td>\n",
       "      <td>12.323856</td>\n",
       "      <td>127000</td>\n",
       "      <td>Diesel</td>\n",
       "      <td>Individual</td>\n",
       "      <td>Manual</td>\n",
       "      <td>1</td>\n",
       "      <td>23.00</td>\n",
       "      <td>1396.0</td>\n",
       "      <td>90.00</td>\n",
       "      <td>5.0</td>\n",
       "    </tr>\n",
       "    <tr>\n",
       "      <th>4</th>\n",
       "      <td>Maruti</td>\n",
       "      <td>2007</td>\n",
       "      <td>11.775290</td>\n",
       "      <td>120000</td>\n",
       "      <td>Petrol</td>\n",
       "      <td>Individual</td>\n",
       "      <td>Manual</td>\n",
       "      <td>1</td>\n",
       "      <td>16.10</td>\n",
       "      <td>1298.0</td>\n",
       "      <td>88.20</td>\n",
       "      <td>5.0</td>\n",
       "    </tr>\n",
       "  </tbody>\n",
       "</table>\n",
       "</div>"
      ],
      "text/plain": [
       "     brand  year  selling_price  km_driven    fuel seller_type transmission  \\\n",
       "0   Maruti  2014      13.017003     145500  Diesel  Individual       Manual   \n",
       "1    Skoda  2014      12.821258     120000  Diesel  Individual       Manual   \n",
       "2    Honda  2006      11.970350     140000  Petrol  Individual       Manual   \n",
       "3  Hyundai  2010      12.323856     127000  Diesel  Individual       Manual   \n",
       "4   Maruti  2007      11.775290     120000  Petrol  Individual       Manual   \n",
       "\n",
       "   owner  mileage  engine  max_power  seats  \n",
       "0      1    23.40  1248.0      74.00    5.0  \n",
       "1      2    21.14  1498.0     103.52    5.0  \n",
       "2      3    17.70  1497.0      78.00    5.0  \n",
       "3      1    23.00  1396.0      90.00    5.0  \n",
       "4      1    16.10  1298.0      88.20    5.0  "
      ]
     },
     "execution_count": 941,
     "metadata": {},
     "output_type": "execute_result"
    }
   ],
   "source": [
    "# Display the first few rows of the DataFrame 'df'\n",
    "df.head()"
   ]
  },
  {
   "cell_type": "code",
   "execution_count": 942,
   "id": "d87dbbb7",
   "metadata": {},
   "outputs": [],
   "source": [
    "#copy the df.copy to further data processing & feature transformation\n",
    "df_cp = df.copy()"
   ]
  },
  {
   "cell_type": "code",
   "execution_count": 943,
   "id": "5980cfc9",
   "metadata": {},
   "outputs": [
    {
     "data": {
      "text/plain": [
       "count    8028.000000\n",
       "mean       12.979337\n",
       "std         0.838039\n",
       "min        10.308919\n",
       "25%        12.468437\n",
       "50%        13.017003\n",
       "75%        13.429848\n",
       "max        16.118096\n",
       "Name: selling_price, dtype: float64"
      ]
     },
     "execution_count": 943,
     "metadata": {},
     "output_type": "execute_result"
    }
   ],
   "source": [
    "df_cp.selling_price.describe()"
   ]
  },
  {
   "cell_type": "code",
   "execution_count": 944,
   "id": "06b02052",
   "metadata": {},
   "outputs": [
    {
     "name": "stdout",
     "output_type": "stream",
     "text": [
      "      selling_price price_category\n",
      "0         13.017003              1\n",
      "1         12.821258              1\n",
      "2         11.970350              0\n",
      "3         12.323856              0\n",
      "4         11.775290              0\n",
      "...             ...            ...\n",
      "8123      12.676076              1\n",
      "8124      11.813030              0\n",
      "8125      12.853176              1\n",
      "8126      12.577636              1\n",
      "8127      12.577636              1\n",
      "\n",
      "[8028 rows x 2 columns]\n"
     ]
    }
   ],
   "source": [
    "# Define the percentiles to create four classes\n",
    "percentiles = [0, 0.25, 0.5, 0.75, 1]\n",
    "\n",
    "# Calculate the corresponding cutoff values\n",
    "cutoffs = df_cp['selling_price'].quantile(percentiles)\n",
    "\n",
    "# Create labels for the four classes (0, 1, 2, 3)\n",
    "labels = [0, 1, 2, 3]\n",
    "\n",
    "# Use pd.cut to create the discrete variable\n",
    "df_cp['price_category'] = pd.cut(df_cp['selling_price'], bins=cutoffs, labels=labels, include_lowest=True)\n",
    "\n",
    "# Inspect the result\n",
    "print(df_cp[['selling_price', 'price_category']])"
   ]
  },
  {
   "cell_type": "code",
   "execution_count": 945,
   "id": "5e6e2315",
   "metadata": {},
   "outputs": [
    {
     "data": {
      "text/plain": [
       "[1, 0, 2, 3]\n",
       "Categories (4, int64): [0 < 1 < 2 < 3]"
      ]
     },
     "execution_count": 945,
     "metadata": {},
     "output_type": "execute_result"
    }
   ],
   "source": [
    "df_cp.price_category.unique()"
   ]
  },
  {
   "cell_type": "code",
   "execution_count": 946,
   "id": "8d586b1b",
   "metadata": {},
   "outputs": [
    {
     "data": {
      "text/plain": [
       "4"
      ]
     },
     "execution_count": 946,
     "metadata": {},
     "output_type": "execute_result"
    }
   ],
   "source": [
    "len(df_cp.price_category.unique())"
   ]
  },
  {
   "cell_type": "code",
   "execution_count": 947,
   "id": "c8d5ca78",
   "metadata": {},
   "outputs": [],
   "source": [
    "df_cp.drop('brand', axis=1,inplace=True)"
   ]
  },
  {
   "cell_type": "markdown",
   "id": "df5f1cc8",
   "metadata": {},
   "source": [
    "We're using the matplotlib and seaborn libraries to create subplots with countplots for other categorical column in the DataFrame df_cp. The loop iterates through the categorical columns, and for each column, a countplot is created. "
   ]
  },
  {
   "cell_type": "code",
   "execution_count": 948,
   "id": "e1802414",
   "metadata": {},
   "outputs": [],
   "source": [
    "# List of categorical columns in the DataFrame other than 'brand'\n",
    "categorical_cols = ['fuel','seller_type', 'transmission']"
   ]
  },
  {
   "cell_type": "markdown",
   "id": "8d06f4c6",
   "metadata": {},
   "source": [
    "\"Year\" shows the car model year. We can replace this column with the cars age attribute.To calculate the age, we consider the origin time to be 1 year older than the maximum model year."
   ]
  },
  {
   "cell_type": "code",
   "execution_count": 949,
   "id": "40446d69",
   "metadata": {},
   "outputs": [],
   "source": [
    "# Calculate and insert a new column 'age' based on the 'year' column\n",
    "df_cp.insert(0, \"age\", df_cp[\"year\"].max()+1-df_cp[\"year\"])\n",
    "# Drop the 'year' column from the DataFrame\n",
    "df_cp.drop('year', axis=1, inplace=True)"
   ]
  },
  {
   "cell_type": "code",
   "execution_count": 950,
   "id": "f00e38e5",
   "metadata": {},
   "outputs": [],
   "source": [
    "# Define the numerical columns to visualize other than 'year'\n",
    "numerical_cols = ['age', 'km_driven', 'owner','mileage','engine', 'seats','max_power', 'selling_price']"
   ]
  },
  {
   "cell_type": "code",
   "execution_count": 951,
   "id": "04aa4d74",
   "metadata": {},
   "outputs": [
    {
     "data": {
      "text/html": [
       "<div>\n",
       "<style scoped>\n",
       "    .dataframe tbody tr th:only-of-type {\n",
       "        vertical-align: middle;\n",
       "    }\n",
       "\n",
       "    .dataframe tbody tr th {\n",
       "        vertical-align: top;\n",
       "    }\n",
       "\n",
       "    .dataframe thead th {\n",
       "        text-align: right;\n",
       "    }\n",
       "</style>\n",
       "<table border=\"1\" class=\"dataframe\">\n",
       "  <thead>\n",
       "    <tr style=\"text-align: right;\">\n",
       "      <th></th>\n",
       "      <th>age</th>\n",
       "      <th>selling_price</th>\n",
       "      <th>km_driven</th>\n",
       "      <th>owner</th>\n",
       "      <th>mileage</th>\n",
       "      <th>engine</th>\n",
       "      <th>max_power</th>\n",
       "      <th>seats</th>\n",
       "      <th>price_category</th>\n",
       "      <th>fuel_Petrol</th>\n",
       "      <th>seller_type_Individual</th>\n",
       "      <th>seller_type_Trustmark Dealer</th>\n",
       "      <th>transmission_Manual</th>\n",
       "    </tr>\n",
       "  </thead>\n",
       "  <tbody>\n",
       "    <tr>\n",
       "      <th>0</th>\n",
       "      <td>7</td>\n",
       "      <td>13.017003</td>\n",
       "      <td>145500</td>\n",
       "      <td>1</td>\n",
       "      <td>23.40</td>\n",
       "      <td>1248.0</td>\n",
       "      <td>74.00</td>\n",
       "      <td>5.0</td>\n",
       "      <td>1</td>\n",
       "      <td>0</td>\n",
       "      <td>1</td>\n",
       "      <td>0</td>\n",
       "      <td>1</td>\n",
       "    </tr>\n",
       "    <tr>\n",
       "      <th>1</th>\n",
       "      <td>7</td>\n",
       "      <td>12.821258</td>\n",
       "      <td>120000</td>\n",
       "      <td>2</td>\n",
       "      <td>21.14</td>\n",
       "      <td>1498.0</td>\n",
       "      <td>103.52</td>\n",
       "      <td>5.0</td>\n",
       "      <td>1</td>\n",
       "      <td>0</td>\n",
       "      <td>1</td>\n",
       "      <td>0</td>\n",
       "      <td>1</td>\n",
       "    </tr>\n",
       "    <tr>\n",
       "      <th>2</th>\n",
       "      <td>15</td>\n",
       "      <td>11.970350</td>\n",
       "      <td>140000</td>\n",
       "      <td>3</td>\n",
       "      <td>17.70</td>\n",
       "      <td>1497.0</td>\n",
       "      <td>78.00</td>\n",
       "      <td>5.0</td>\n",
       "      <td>0</td>\n",
       "      <td>1</td>\n",
       "      <td>1</td>\n",
       "      <td>0</td>\n",
       "      <td>1</td>\n",
       "    </tr>\n",
       "    <tr>\n",
       "      <th>3</th>\n",
       "      <td>11</td>\n",
       "      <td>12.323856</td>\n",
       "      <td>127000</td>\n",
       "      <td>1</td>\n",
       "      <td>23.00</td>\n",
       "      <td>1396.0</td>\n",
       "      <td>90.00</td>\n",
       "      <td>5.0</td>\n",
       "      <td>0</td>\n",
       "      <td>0</td>\n",
       "      <td>1</td>\n",
       "      <td>0</td>\n",
       "      <td>1</td>\n",
       "    </tr>\n",
       "    <tr>\n",
       "      <th>4</th>\n",
       "      <td>14</td>\n",
       "      <td>11.775290</td>\n",
       "      <td>120000</td>\n",
       "      <td>1</td>\n",
       "      <td>16.10</td>\n",
       "      <td>1298.0</td>\n",
       "      <td>88.20</td>\n",
       "      <td>5.0</td>\n",
       "      <td>0</td>\n",
       "      <td>1</td>\n",
       "      <td>1</td>\n",
       "      <td>0</td>\n",
       "      <td>1</td>\n",
       "    </tr>\n",
       "  </tbody>\n",
       "</table>\n",
       "</div>"
      ],
      "text/plain": [
       "   age  selling_price  km_driven  owner  mileage  engine  max_power  seats  \\\n",
       "0    7      13.017003     145500      1    23.40  1248.0      74.00    5.0   \n",
       "1    7      12.821258     120000      2    21.14  1498.0     103.52    5.0   \n",
       "2   15      11.970350     140000      3    17.70  1497.0      78.00    5.0   \n",
       "3   11      12.323856     127000      1    23.00  1396.0      90.00    5.0   \n",
       "4   14      11.775290     120000      1    16.10  1298.0      88.20    5.0   \n",
       "\n",
       "  price_category  fuel_Petrol  seller_type_Individual  \\\n",
       "0              1            0                       1   \n",
       "1              1            0                       1   \n",
       "2              0            1                       1   \n",
       "3              0            0                       1   \n",
       "4              0            1                       1   \n",
       "\n",
       "   seller_type_Trustmark Dealer  transmission_Manual  \n",
       "0                             0                    1  \n",
       "1                             0                    1  \n",
       "2                             0                    1  \n",
       "3                             0                    1  \n",
       "4                             0                    1  "
      ]
     },
     "execution_count": 951,
     "metadata": {},
     "output_type": "execute_result"
    }
   ],
   "source": [
    "# List of categorical columns to be one-hot encoded\n",
    "cat_cols = ['fuel', 'seller_type', 'transmission']\n",
    "# Use pandas get_dummies to perform one-hot encoding on the specified categorical columns\n",
    "# Drop_first=True is used to prevent multicollinearity by dropping the first category\n",
    "df_cp = pd.get_dummies(df_cp, columns=cat_cols, drop_first=True)\n",
    "# Display the first 5 rows of the modified DataFrame\n",
    "df_cp.head(5)"
   ]
  },
  {
   "cell_type": "code",
   "execution_count": 952,
   "id": "c4727d77",
   "metadata": {},
   "outputs": [],
   "source": [
    "# Convert price_category into one-hot encoded features\n",
    "df_encoded = pd.get_dummies(df_cp, columns=['price_category'], prefix='class')"
   ]
  },
  {
   "cell_type": "code",
   "execution_count": 953,
   "id": "85d9236a",
   "metadata": {},
   "outputs": [
    {
     "data": {
      "text/html": [
       "<div>\n",
       "<style scoped>\n",
       "    .dataframe tbody tr th:only-of-type {\n",
       "        vertical-align: middle;\n",
       "    }\n",
       "\n",
       "    .dataframe tbody tr th {\n",
       "        vertical-align: top;\n",
       "    }\n",
       "\n",
       "    .dataframe thead th {\n",
       "        text-align: right;\n",
       "    }\n",
       "</style>\n",
       "<table border=\"1\" class=\"dataframe\">\n",
       "  <thead>\n",
       "    <tr style=\"text-align: right;\">\n",
       "      <th></th>\n",
       "      <th>age</th>\n",
       "      <th>selling_price</th>\n",
       "      <th>km_driven</th>\n",
       "      <th>owner</th>\n",
       "      <th>mileage</th>\n",
       "      <th>engine</th>\n",
       "      <th>max_power</th>\n",
       "      <th>seats</th>\n",
       "      <th>fuel_Petrol</th>\n",
       "      <th>seller_type_Individual</th>\n",
       "      <th>seller_type_Trustmark Dealer</th>\n",
       "      <th>transmission_Manual</th>\n",
       "      <th>class_0</th>\n",
       "      <th>class_1</th>\n",
       "      <th>class_2</th>\n",
       "      <th>class_3</th>\n",
       "    </tr>\n",
       "  </thead>\n",
       "  <tbody>\n",
       "    <tr>\n",
       "      <th>0</th>\n",
       "      <td>7</td>\n",
       "      <td>13.017003</td>\n",
       "      <td>145500</td>\n",
       "      <td>1</td>\n",
       "      <td>23.40</td>\n",
       "      <td>1248.0</td>\n",
       "      <td>74.00</td>\n",
       "      <td>5.0</td>\n",
       "      <td>0</td>\n",
       "      <td>1</td>\n",
       "      <td>0</td>\n",
       "      <td>1</td>\n",
       "      <td>0</td>\n",
       "      <td>1</td>\n",
       "      <td>0</td>\n",
       "      <td>0</td>\n",
       "    </tr>\n",
       "    <tr>\n",
       "      <th>1</th>\n",
       "      <td>7</td>\n",
       "      <td>12.821258</td>\n",
       "      <td>120000</td>\n",
       "      <td>2</td>\n",
       "      <td>21.14</td>\n",
       "      <td>1498.0</td>\n",
       "      <td>103.52</td>\n",
       "      <td>5.0</td>\n",
       "      <td>0</td>\n",
       "      <td>1</td>\n",
       "      <td>0</td>\n",
       "      <td>1</td>\n",
       "      <td>0</td>\n",
       "      <td>1</td>\n",
       "      <td>0</td>\n",
       "      <td>0</td>\n",
       "    </tr>\n",
       "    <tr>\n",
       "      <th>2</th>\n",
       "      <td>15</td>\n",
       "      <td>11.970350</td>\n",
       "      <td>140000</td>\n",
       "      <td>3</td>\n",
       "      <td>17.70</td>\n",
       "      <td>1497.0</td>\n",
       "      <td>78.00</td>\n",
       "      <td>5.0</td>\n",
       "      <td>1</td>\n",
       "      <td>1</td>\n",
       "      <td>0</td>\n",
       "      <td>1</td>\n",
       "      <td>1</td>\n",
       "      <td>0</td>\n",
       "      <td>0</td>\n",
       "      <td>0</td>\n",
       "    </tr>\n",
       "    <tr>\n",
       "      <th>3</th>\n",
       "      <td>11</td>\n",
       "      <td>12.323856</td>\n",
       "      <td>127000</td>\n",
       "      <td>1</td>\n",
       "      <td>23.00</td>\n",
       "      <td>1396.0</td>\n",
       "      <td>90.00</td>\n",
       "      <td>5.0</td>\n",
       "      <td>0</td>\n",
       "      <td>1</td>\n",
       "      <td>0</td>\n",
       "      <td>1</td>\n",
       "      <td>1</td>\n",
       "      <td>0</td>\n",
       "      <td>0</td>\n",
       "      <td>0</td>\n",
       "    </tr>\n",
       "    <tr>\n",
       "      <th>4</th>\n",
       "      <td>14</td>\n",
       "      <td>11.775290</td>\n",
       "      <td>120000</td>\n",
       "      <td>1</td>\n",
       "      <td>16.10</td>\n",
       "      <td>1298.0</td>\n",
       "      <td>88.20</td>\n",
       "      <td>5.0</td>\n",
       "      <td>1</td>\n",
       "      <td>1</td>\n",
       "      <td>0</td>\n",
       "      <td>1</td>\n",
       "      <td>1</td>\n",
       "      <td>0</td>\n",
       "      <td>0</td>\n",
       "      <td>0</td>\n",
       "    </tr>\n",
       "  </tbody>\n",
       "</table>\n",
       "</div>"
      ],
      "text/plain": [
       "   age  selling_price  km_driven  owner  mileage  engine  max_power  seats  \\\n",
       "0    7      13.017003     145500      1    23.40  1248.0      74.00    5.0   \n",
       "1    7      12.821258     120000      2    21.14  1498.0     103.52    5.0   \n",
       "2   15      11.970350     140000      3    17.70  1497.0      78.00    5.0   \n",
       "3   11      12.323856     127000      1    23.00  1396.0      90.00    5.0   \n",
       "4   14      11.775290     120000      1    16.10  1298.0      88.20    5.0   \n",
       "\n",
       "   fuel_Petrol  seller_type_Individual  seller_type_Trustmark Dealer  \\\n",
       "0            0                       1                             0   \n",
       "1            0                       1                             0   \n",
       "2            1                       1                             0   \n",
       "3            0                       1                             0   \n",
       "4            1                       1                             0   \n",
       "\n",
       "   transmission_Manual  class_0  class_1  class_2  class_3  \n",
       "0                    1        0        1        0        0  \n",
       "1                    1        0        1        0        0  \n",
       "2                    1        1        0        0        0  \n",
       "3                    1        1        0        0        0  \n",
       "4                    1        1        0        0        0  "
      ]
     },
     "execution_count": 953,
     "metadata": {},
     "output_type": "execute_result"
    }
   ],
   "source": [
    "df_encoded.head()"
   ]
  },
  {
   "cell_type": "code",
   "execution_count": 954,
   "id": "f5177b2e",
   "metadata": {},
   "outputs": [],
   "source": [
    "# Define the list of selected features for prediction\n",
    "feature_list  = ['km_driven','age','engine','fuel_Petrol','transmission_Manual']"
   ]
  },
  {
   "cell_type": "code",
   "execution_count": 955,
   "id": "1760b624",
   "metadata": {},
   "outputs": [],
   "source": [
    "# # Create the feature matrix X by selecting the specified features\n",
    "X = df_encoded[feature_list]\n",
    "# # Create the target vector y using the 'selling_price' column\n",
    "y = df_encoded[['class_0', 'class_1', 'class_2', 'class_3']]"
   ]
  },
  {
   "cell_type": "code",
   "execution_count": 956,
   "id": "aef7c90b",
   "metadata": {},
   "outputs": [
    {
     "data": {
      "text/plain": [
       "((8028, 5), (8028, 4))"
      ]
     },
     "execution_count": 956,
     "metadata": {},
     "output_type": "execute_result"
    }
   ],
   "source": [
    "X.shape, y.shape"
   ]
  },
  {
   "cell_type": "markdown",
   "id": "619139af",
   "metadata": {},
   "source": [
    "### Train test split\n",
    "\n",
    "__using the train_test_split function from the sklearn.model_selection module to split your dataset into training and testing sets.__"
   ]
  },
  {
   "cell_type": "code",
   "execution_count": 957,
   "id": "90585554",
   "metadata": {},
   "outputs": [],
   "source": [
    "from sklearn.model_selection import train_test_split\n",
    "\n",
    "# Split the dataset into features (X) and target (y)\n",
    "# Set test_size to 0.3 for a 70-30 train-test split\n",
    "# Use random_state for reproducibility of the split\n",
    "X_train, X_test, y_train, y_test = train_test_split(X, y, test_size = 0.3, random_state = 42)"
   ]
  },
  {
   "cell_type": "code",
   "execution_count": null,
   "id": "99c92684",
   "metadata": {},
   "outputs": [],
   "source": []
  },
  {
   "cell_type": "code",
   "execution_count": 958,
   "id": "6e77d250",
   "metadata": {},
   "outputs": [
    {
     "data": {
      "text/plain": [
       "((5619, 5), (2409, 5), (5619, 4), (2409, 4))"
      ]
     },
     "execution_count": 958,
     "metadata": {},
     "output_type": "execute_result"
    }
   ],
   "source": [
    "# Check the shapes of the training and testing sets\n",
    "X_train.shape, X_test.shape, y_train.shape, y_test.shape"
   ]
  },
  {
   "cell_type": "code",
   "execution_count": 959,
   "id": "cb3487d9",
   "metadata": {},
   "outputs": [
    {
     "name": "stdout",
     "output_type": "stream",
     "text": [
      "Total Dataset Size 8028\n",
      "Training Dataset Size 5619\n",
      "Test Dataset Size 2409\n"
     ]
    }
   ],
   "source": [
    "print(\"Total Dataset Size\", X.shape[0])\n",
    "print(\"Training Dataset Size\", X_train.shape[0])\n",
    "print(\"Test Dataset Size\", X_test.shape[0])"
   ]
  },
  {
   "cell_type": "code",
   "execution_count": 960,
   "id": "b4dfeb0c",
   "metadata": {},
   "outputs": [],
   "source": [
    "# Perform an assertion to ensure that the number of samples in X_train matches y_train\n",
    "assert X_train.shape[0] == y_train.shape[0]"
   ]
  },
  {
   "cell_type": "markdown",
   "id": "acfea971",
   "metadata": {},
   "source": [
    "## 5. Preprocessing"
   ]
  },
  {
   "cell_type": "markdown",
   "id": "bbd4215d",
   "metadata": {},
   "source": [
    "### Check Null values"
   ]
  },
  {
   "cell_type": "code",
   "execution_count": 961,
   "id": "e079b78b",
   "metadata": {},
   "outputs": [
    {
     "data": {
      "text/plain": [
       "km_driven                0\n",
       "age                      0\n",
       "engine                 154\n",
       "fuel_Petrol              0\n",
       "transmission_Manual      0\n",
       "dtype: int64"
      ]
     },
     "execution_count": 961,
     "metadata": {},
     "output_type": "execute_result"
    }
   ],
   "source": [
    "# Check for null values in the selected features of the training set\n",
    "X_train[ feature_list ].isna().sum()"
   ]
  },
  {
   "cell_type": "code",
   "execution_count": 962,
   "id": "21c17fd4",
   "metadata": {},
   "outputs": [
    {
     "data": {
      "text/plain": [
       "km_driven               0\n",
       "age                     0\n",
       "engine                 60\n",
       "fuel_Petrol             0\n",
       "transmission_Manual     0\n",
       "dtype: int64"
      ]
     },
     "execution_count": 962,
     "metadata": {},
     "output_type": "execute_result"
    }
   ],
   "source": [
    "# Check for null values in the selected features of the test set\n",
    "X_test[ feature_list].isna().sum()"
   ]
  },
  {
   "cell_type": "code",
   "execution_count": 963,
   "id": "b8c22c75",
   "metadata": {},
   "outputs": [
    {
     "data": {
      "text/plain": [
       "class_0    0\n",
       "class_1    0\n",
       "class_2    0\n",
       "class_3    0\n",
       "dtype: int64"
      ]
     },
     "execution_count": 963,
     "metadata": {},
     "output_type": "execute_result"
    }
   ],
   "source": [
    "# Check for null values in the training target vector y_train\n",
    "y_train.isna().sum()"
   ]
  },
  {
   "cell_type": "code",
   "execution_count": 964,
   "id": "1bc8a130",
   "metadata": {},
   "outputs": [
    {
     "data": {
      "text/plain": [
       "class_0    0\n",
       "class_1    0\n",
       "class_2    0\n",
       "class_3    0\n",
       "dtype: int64"
      ]
     },
     "execution_count": 964,
     "metadata": {},
     "output_type": "execute_result"
    }
   ],
   "source": [
    "# Check for null values in the training target vector y_test\n",
    "y_test.isna().sum()"
   ]
  },
  {
   "cell_type": "code",
   "execution_count": 965,
   "id": "5ac523bc",
   "metadata": {},
   "outputs": [
    {
     "data": {
      "text/plain": [
       "5"
      ]
     },
     "execution_count": 965,
     "metadata": {},
     "output_type": "execute_result"
    }
   ],
   "source": [
    "len(feature_list)"
   ]
  },
  {
   "cell_type": "code",
   "execution_count": 966,
   "id": "1ec5fb9b",
   "metadata": {},
   "outputs": [
    {
     "data": {
      "text/plain": [
       "['km_driven', 'age', 'engine', 'fuel_Petrol', 'transmission_Manual']"
      ]
     },
     "execution_count": 966,
     "metadata": {},
     "output_type": "execute_result"
    }
   ],
   "source": [
    "feature_list"
   ]
  },
  {
   "cell_type": "markdown",
   "id": "5851e550",
   "metadata": {},
   "source": [
    "__Among the 5 features only 'engine' contains null values__"
   ]
  },
  {
   "cell_type": "code",
   "execution_count": 967,
   "id": "8563e333",
   "metadata": {},
   "outputs": [],
   "source": [
    "# Impute the missing values in the 'engine' feature with the mean value for training set\n",
    "X_train['engine'].fillna(X_train['engine'].mean(), inplace=True)\n",
    "# Impute the missing values in the 'engine' feature with the mean value for testing set\n",
    "X_test['engine'].fillna(X_test['engine'].mean(), inplace=True)"
   ]
  },
  {
   "cell_type": "code",
   "execution_count": 968,
   "id": "ef8a4883",
   "metadata": {},
   "outputs": [
    {
     "data": {
      "text/plain": [
       "km_driven              0\n",
       "age                    0\n",
       "engine                 0\n",
       "fuel_Petrol            0\n",
       "transmission_Manual    0\n",
       "dtype: int64"
      ]
     },
     "execution_count": 968,
     "metadata": {},
     "output_type": "execute_result"
    }
   ],
   "source": [
    "# Check again for null values in the selected features of the training set\n",
    "X_train[ feature_list ].isna().sum()"
   ]
  },
  {
   "cell_type": "code",
   "execution_count": 969,
   "id": "5bc75e31",
   "metadata": {},
   "outputs": [
    {
     "data": {
      "text/plain": [
       "km_driven              0\n",
       "age                    0\n",
       "engine                 0\n",
       "fuel_Petrol            0\n",
       "transmission_Manual    0\n",
       "dtype: int64"
      ]
     },
     "execution_count": 969,
     "metadata": {},
     "output_type": "execute_result"
    }
   ],
   "source": [
    "# Check again for null values in the selected features of the test set\n",
    "X_test[ feature_list ].isna().sum()"
   ]
  },
  {
   "cell_type": "code",
   "execution_count": 970,
   "id": "f46c274d",
   "metadata": {},
   "outputs": [
    {
     "data": {
      "text/plain": [
       "(class_0    0\n",
       " class_1    0\n",
       " class_2    0\n",
       " class_3    0\n",
       " dtype: int64,\n",
       " class_0    0\n",
       " class_1    0\n",
       " class_2    0\n",
       " class_3    0\n",
       " dtype: int64)"
      ]
     },
     "execution_count": 970,
     "metadata": {},
     "output_type": "execute_result"
    }
   ],
   "source": [
    "# Check for null values in the training target vector y_train & test target vector y_test\n",
    "y_train.isna().sum(), y_test.isna().sum()"
   ]
  },
  {
   "cell_type": "markdown",
   "id": "9b80cd03",
   "metadata": {},
   "source": [
    "### Checking Outliers"
   ]
  },
  {
   "cell_type": "code",
   "execution_count": 971,
   "id": "2bb13273",
   "metadata": {},
   "outputs": [
    {
     "name": "stdout",
     "output_type": "stream",
     "text": [
      "{'km_driven': 1, 'age': 2, 'engine': 3, 'fuel_Petrol': 4, 'transmission_Manual': 5}\n"
     ]
    },
    {
     "data": {
      "image/png": "[encoded data removed]",
      "text/plain": [
       "<Figure size 2000x3000 with 5 Axes>"
      ]
     },
     "metadata": {},
     "output_type": "display_data"
    }
   ],
   "source": [
    "# Create a dictionary of columns.\n",
    "col_dict = {feature: indx+1 for indx, feature in enumerate(feature_list)}\n",
    "print(col_dict)\n",
    "\n",
    "# Detect outliers in each variable using box plots.\n",
    "plt.figure(figsize=(20,30))\n",
    "\n",
    "for variable,i in col_dict.items():\n",
    "                     plt.subplot(5,4,i)\n",
    "                     plt.boxplot(X_train[variable])\n",
    "                     plt.title(variable)\n",
    "\n",
    "plt.show()"
   ]
  },
  {
   "cell_type": "code",
   "execution_count": 972,
   "id": "1d646458",
   "metadata": {},
   "outputs": [],
   "source": [
    "def outlier_count(col, data = X_train):\n",
    "    # calculate your 25% quatile and 75% quatile\n",
    "    q75, q25 = np.percentile(data[col], [75, 25])\n",
    "    # calculate your inter quatile\n",
    "    iqr = q75 - q25\n",
    "    # min_val and max_val\n",
    "    min_val = q25 - (iqr*1.5)\n",
    "    max_val = q75 + (iqr*1.5)\n",
    "    outlier_count = np.where((data[col] > max_val) | (data[col] < min_val))  # np.where return tuple.\n",
    "\n",
    "    outlier_count = outlier_count[0] #\n",
    "    outlier_count = len(outlier_count)\n",
    "\n",
    "    # calculate the percentage of the outliers\n",
    "    outlier_percent = round(outlier_count/len(data[col])*100, 2)\n",
    "    if(outlier_count > 0):\n",
    "        print(\"\\n\"+15*'-' + col + 15*'-'+\"\\n\")\n",
    "        print('Number of outliers: {}'.format(outlier_count))\n",
    "        print('Percent of data that is outlier: {}%'.format(outlier_percent))"
   ]
  },
  {
   "cell_type": "code",
   "execution_count": 973,
   "id": "4daac8a4",
   "metadata": {},
   "outputs": [
    {
     "name": "stdout",
     "output_type": "stream",
     "text": [
      "km_driven\n",
      "\n",
      "---------------km_driven---------------\n",
      "\n",
      "Number of outliers: 102\n",
      "Percent of data that is outlier: 1.82%\n",
      "age\n",
      "\n",
      "---------------age---------------\n",
      "\n",
      "Number of outliers: 145\n",
      "Percent of data that is outlier: 2.58%\n",
      "engine\n",
      "\n",
      "---------------engine---------------\n",
      "\n",
      "Number of outliers: 836\n",
      "Percent of data that is outlier: 14.88%\n",
      "fuel_Petrol\n",
      "transmission_Manual\n",
      "\n",
      "---------------transmission_Manual---------------\n",
      "\n",
      "Number of outliers: 758\n",
      "Percent of data that is outlier: 13.49%\n"
     ]
    }
   ],
   "source": [
    "# Iterate through columns of the training feature matrix\n",
    "for col in X_train.columns:\n",
    "    print(col)\n",
    "    # Apply the function 'outlier_count' to the current column\n",
    "    outlier_count(col)"
   ]
  },
  {
   "cell_type": "markdown",
   "id": "4d0f5342",
   "metadata": {},
   "source": [
    " **Before Scalling we preserve mean of  the input feature (will be used later deployment where user won't input  value of a particular feature )**"
   ]
  },
  {
   "cell_type": "code",
   "execution_count": 974,
   "id": "6ac4220c",
   "metadata": {},
   "outputs": [
    {
     "data": {
      "text/plain": [
       "(2020, 7.137924897668625, 70029.87346502936, 1463.855626715462)"
      ]
     },
     "execution_count": 974,
     "metadata": {},
     "output_type": "execute_result"
    }
   ],
   "source": [
    "max_year = df['year'].max()\n",
    "mean_age = X_train['age'].mean()\n",
    "mean_km_driven = X_train['km_driven'].mean()\n",
    "mean_engine_size = X_train['engine'].mean()\n",
    "max_year,mean_age, mean_km_driven, mean_engine_size"
   ]
  },
  {
   "cell_type": "code",
   "execution_count": 975,
   "id": "7a104d89",
   "metadata": {},
   "outputs": [
    {
     "data": {
      "text/html": [
       "<div>\n",
       "<style scoped>\n",
       "    .dataframe tbody tr th:only-of-type {\n",
       "        vertical-align: middle;\n",
       "    }\n",
       "\n",
       "    .dataframe tbody tr th {\n",
       "        vertical-align: top;\n",
       "    }\n",
       "\n",
       "    .dataframe thead th {\n",
       "        text-align: right;\n",
       "    }\n",
       "</style>\n",
       "<table border=\"1\" class=\"dataframe\">\n",
       "  <thead>\n",
       "    <tr style=\"text-align: right;\">\n",
       "      <th></th>\n",
       "      <th>km_driven</th>\n",
       "      <th>age</th>\n",
       "      <th>engine</th>\n",
       "      <th>fuel_Petrol</th>\n",
       "      <th>transmission_Manual</th>\n",
       "    </tr>\n",
       "  </thead>\n",
       "  <tbody>\n",
       "    <tr>\n",
       "      <th>6853</th>\n",
       "      <td>120000</td>\n",
       "      <td>6</td>\n",
       "      <td>2499.0</td>\n",
       "      <td>0</td>\n",
       "      <td>1</td>\n",
       "    </tr>\n",
       "    <tr>\n",
       "      <th>1495</th>\n",
       "      <td>90000</td>\n",
       "      <td>8</td>\n",
       "      <td>2523.0</td>\n",
       "      <td>0</td>\n",
       "      <td>1</td>\n",
       "    </tr>\n",
       "    <tr>\n",
       "      <th>7904</th>\n",
       "      <td>92000</td>\n",
       "      <td>8</td>\n",
       "      <td>1248.0</td>\n",
       "      <td>0</td>\n",
       "      <td>1</td>\n",
       "    </tr>\n",
       "    <tr>\n",
       "      <th>1281</th>\n",
       "      <td>100000</td>\n",
       "      <td>11</td>\n",
       "      <td>1248.0</td>\n",
       "      <td>0</td>\n",
       "      <td>1</td>\n",
       "    </tr>\n",
       "    <tr>\n",
       "      <th>1421</th>\n",
       "      <td>120000</td>\n",
       "      <td>11</td>\n",
       "      <td>1396.0</td>\n",
       "      <td>0</td>\n",
       "      <td>1</td>\n",
       "    </tr>\n",
       "  </tbody>\n",
       "</table>\n",
       "</div>"
      ],
      "text/plain": [
       "      km_driven  age  engine  fuel_Petrol  transmission_Manual\n",
       "6853     120000    6  2499.0            0                    1\n",
       "1495      90000    8  2523.0            0                    1\n",
       "7904      92000    8  1248.0            0                    1\n",
       "1281     100000   11  1248.0            0                    1\n",
       "1421     120000   11  1396.0            0                    1"
      ]
     },
     "execution_count": 975,
     "metadata": {},
     "output_type": "execute_result"
    }
   ],
   "source": [
    "X_train.head()"
   ]
  },
  {
   "cell_type": "markdown",
   "id": "1d3ffa5c",
   "metadata": {},
   "source": [
    "### Scaling"
   ]
  },
  {
   "cell_type": "markdown",
   "id": "46df72aa",
   "metadata": {},
   "source": [
    "__Feature scaling helps improve reach convergence faster__\n",
    "- using the StandardScaler from sklearn.preprocessing to standardize the numerical features in the training and testing sets.\n",
    "- Categorical features are typically represented as binary or one-hot encoded vectors. These representations are already in a consistent format that doesn't have varying magnitudes like numerical features."
   ]
  },
  {
   "cell_type": "code",
   "execution_count": 976,
   "id": "2c41eeb2",
   "metadata": {},
   "outputs": [],
   "source": [
    "from sklearn.preprocessing import StandardScaler\n",
    "\n",
    "# List of continuous numerical features to be standardized\n",
    "feature_list_continuous = ['km_driven', 'age', 'engine']\n",
    "# Initialize the StandardScaler\n",
    "scaler = StandardScaler()\n",
    "# Standardize the selected numerical features in the training set\n",
    "X_train[feature_list_continuous] = scaler.fit_transform(X_train[feature_list_continuous])\n",
    "# Standardize the selected numerical features in the testing set\n",
    "X_test[feature_list_continuous]  = scaler.transform(X_test[feature_list_continuous])"
   ]
  },
  {
   "cell_type": "markdown",
   "id": "cf4ef2a0",
   "metadata": {},
   "source": [
    "- Save scaler for future inference "
   ]
  },
  {
   "cell_type": "code",
   "execution_count": 847,
   "id": "1c5da5e7",
   "metadata": {},
   "outputs": [],
   "source": [
    "import pickle5 as pickle"
   ]
  },
  {
   "cell_type": "code",
   "execution_count": 848,
   "id": "82aa0412",
   "metadata": {},
   "outputs": [],
   "source": [
    "# Save the scaler's mean and scale parameters\n",
    "scaler_path = \"./model/scaler.pkl\"\n",
    "scaler_params = {\n",
    "    'mean': scaler.mean_,\n",
    "    'scale': scaler.scale_\n",
    "}\n",
    "with open(scaler_path, 'wb') as scaler_file:\n",
    "    pickle.dump(scaler_params, scaler_file)"
   ]
  },
  {
   "cell_type": "code",
   "execution_count": 849,
   "id": "5d31c4e8",
   "metadata": {},
   "outputs": [
    {
     "name": "stdout",
     "output_type": "stream",
     "text": [
      "Shape of X_train:  (5619, 5)\n",
      "Shape of X_test:  (2409, 5)\n",
      "Shape of y_train:  (5619, 4)\n",
      "Shape of y_test:  (2409, 4)\n"
     ]
    }
   ],
   "source": [
    "# Let's check shapes of all X_train, X_test, y_train, y_test\n",
    "print(\"Shape of X_train: \", X_train.shape)\n",
    "print(\"Shape of X_test: \", X_test.shape)\n",
    "print(\"Shape of y_train: \", y_train.shape)\n",
    "print(\"Shape of y_test: \", y_test.shape)"
   ]
  },
  {
   "cell_type": "code",
   "execution_count": 850,
   "id": "d1e531f0",
   "metadata": {},
   "outputs": [],
   "source": [
    "#copying train and test dataset \n",
    "X_train_set = X_train.copy()\n",
    "X_test_set =  X_test.copy()"
   ]
  },
  {
   "cell_type": "code",
   "execution_count": 851,
   "id": "9b70704e",
   "metadata": {},
   "outputs": [
    {
     "name": "stdout",
     "output_type": "stream",
     "text": [
      "Shape of X_train:  (5619, 5) <class 'pandas.core.frame.DataFrame'>\n",
      "Shape of X_test:  (2409, 5) <class 'pandas.core.frame.DataFrame'>\n",
      "Shape of y_train:  (5619, 4) <class 'pandas.core.frame.DataFrame'>\n",
      "Shape of y_test:  (2409, 4) <class 'pandas.core.frame.DataFrame'>\n"
     ]
    }
   ],
   "source": [
    "# Let's check shapes of all X_train, X_test, y_train, y_test\n",
    "print(\"Shape of X_train: \", X_train_set.shape, type(X_train))\n",
    "print(\"Shape of X_test: \", X_test_set.shape, type(X_test))\n",
    "print(\"Shape of y_train: \", y_train.shape, type(y_train))\n",
    "print(\"Shape of y_test: \", y_test.shape, type(y_test))"
   ]
  },
  {
   "cell_type": "code",
   "execution_count": 854,
   "id": "72a55912",
   "metadata": {},
   "outputs": [],
   "source": [
    "#add intercept in both training and testing feature\n",
    "X_train_set['intercept'] = 1\n",
    "X_test_set['intercept'] = 1"
   ]
  },
  {
   "cell_type": "code",
   "execution_count": 855,
   "id": "fb55ed3e",
   "metadata": {},
   "outputs": [
    {
     "name": "stdout",
     "output_type": "stream",
     "text": [
      "Shape of X_train:  (5619, 6) <class 'pandas.core.frame.DataFrame'>\n",
      "Shape of X_test:  (2409, 6) <class 'pandas.core.frame.DataFrame'>\n",
      "Shape of y_train:  (5619, 4) <class 'pandas.core.frame.DataFrame'>\n",
      "Shape of y_test:  (2409, 4) <class 'pandas.core.frame.DataFrame'>\n"
     ]
    }
   ],
   "source": [
    "# Let's check shapes of all X_train, X_test, y_train, y_test\n",
    "print(\"Shape of X_train: \", X_train_set.shape, type(X_train))\n",
    "print(\"Shape of X_test: \", X_test_set.shape, type(X_test))\n",
    "print(\"Shape of y_train: \", y_train.shape, type(y_train))\n",
    "print(\"Shape of y_test: \", y_test.shape, type(y_test))"
   ]
  },
  {
   "cell_type": "code",
   "execution_count": 857,
   "id": "b3862e9b",
   "metadata": {},
   "outputs": [],
   "source": [
    "# Convert pandas DataFrames to NumPy arrays\n",
    "X_train_np = X_train_set.values\n",
    "X_test_np = X_test_set.values\n",
    "\n",
    "# Convert pandas Series to NumPy arrays\n",
    "y_train_np = y_train.values\n",
    "y_test_np = y_test.values"
   ]
  },
  {
   "cell_type": "code",
   "execution_count": 858,
   "id": "e887beae",
   "metadata": {},
   "outputs": [
    {
     "data": {
      "text/plain": [
       "numpy.ndarray"
      ]
     },
     "execution_count": 858,
     "metadata": {},
     "output_type": "execute_result"
    }
   ],
   "source": [
    "type(X_train_np)"
   ]
  },
  {
   "cell_type": "code",
   "execution_count": 859,
   "id": "c7d0bd0d",
   "metadata": {},
   "outputs": [
    {
     "data": {
      "text/plain": [
       "array([[1, 0, 0, 0],\n",
       "       [0, 0, 0, 1],\n",
       "       [0, 1, 0, 0],\n",
       "       ...,\n",
       "       [1, 0, 0, 0],\n",
       "       [0, 0, 1, 0],\n",
       "       [0, 1, 0, 0]], dtype=uint8)"
      ]
     },
     "execution_count": 859,
     "metadata": {},
     "output_type": "execute_result"
    }
   ],
   "source": [
    "y_test_np"
   ]
  },
  {
   "cell_type": "code",
   "execution_count": 860,
   "id": "72ff3aac",
   "metadata": {},
   "outputs": [
    {
     "data": {
      "text/plain": [
       "array([[0, 1, 0, 0],\n",
       "       [0, 1, 0, 0],\n",
       "       [0, 0, 1, 0],\n",
       "       ...,\n",
       "       [0, 0, 0, 1],\n",
       "       [0, 0, 0, 1],\n",
       "       [0, 0, 0, 1]], dtype=uint8)"
      ]
     },
     "execution_count": 860,
     "metadata": {},
     "output_type": "execute_result"
    }
   ],
   "source": [
    "y_train_np"
   ]
  },
  {
   "cell_type": "code",
   "execution_count": 861,
   "id": "e78da965",
   "metadata": {},
   "outputs": [
    {
     "name": "stdout",
     "output_type": "stream",
     "text": [
      "Shape of X_train:  (5619, 6) <class 'numpy.ndarray'>\n",
      "Shape of X_test:  (2409, 6) <class 'numpy.ndarray'>\n",
      "Shape of y_train:  (5619, 4) <class 'numpy.ndarray'>\n",
      "Shape of y_test:  (2409, 4) <class 'numpy.ndarray'>\n"
     ]
    }
   ],
   "source": [
    "# Let's check shapes of all X_train, X_test, y_train, y_test\n",
    "print(\"Shape of X_train: \", X_train_np.shape, type(X_train_np))\n",
    "print(\"Shape of X_test: \", X_test_np.shape,type(X_test_np))\n",
    "print(\"Shape of y_train: \", y_train_np.shape,type(y_train_np))\n",
    "print(\"Shape of y_test: \", y_test_np.shape,type(y_test_np))"
   ]
  },
  {
   "cell_type": "code",
   "execution_count": 862,
   "id": "69107a50",
   "metadata": {},
   "outputs": [
    {
     "data": {
      "text/plain": [
       "<Experiment: artifact_location='mlflow-artifacts:/589799493908908443', creation_time=1695815973047, experiment_id='589799493908908443', last_update_time=1695815973047, lifecycle_stage='active', name='st124047-a3', tags={}>"
      ]
     },
     "execution_count": 862,
     "metadata": {},
     "output_type": "execute_result"
    }
   ],
   "source": [
    "#experiment tracking\n",
    "import os\n",
    "import mlflow\n",
    "mlflow.set_tracking_uri(\"https://mlflow.cs.ait.ac.th\")\n",
    "mlflow.set_experiment(experiment_name=\"st124047-a3\")"
   ]
  },
  {
   "cell_type": "code",
   "execution_count": 863,
   "id": "fe921a9a",
   "metadata": {},
   "outputs": [],
   "source": [
    "import time"
   ]
  },
  {
   "cell_type": "markdown",
   "id": "f85e3494",
   "metadata": {},
   "source": [
    "### 6. Modeling"
   ]
  },
  {
   "cell_type": "code",
   "execution_count": 864,
   "id": "4d26aa4b",
   "metadata": {},
   "outputs": [],
   "source": [
    "class LogisticRegression:\n",
    "    \n",
    "    def __init__(self, k, n, method, alpha = 0.001, max_iter=5000):\n",
    "        self.k = k\n",
    "        self.n = n\n",
    "        self.alpha = alpha\n",
    "        self.max_iter = max_iter\n",
    "        self.method = method\n",
    "    \n",
    "    def fit(self, X, Y):\n",
    "        self.W = np.random.rand(self.n, self.k)\n",
    "        self.losses = []\n",
    "        \n",
    "        if self.method == \"batch\":\n",
    "            start_time = time.time()\n",
    "            for i in range(self.max_iter):\n",
    "                loss, grad =  self.gradient(X, Y)\n",
    "                self.losses.append(loss)\n",
    "                self.W = self.W - self.alpha * grad\n",
    "                if i % 500 == 0:\n",
    "                    print(f\"Loss at iteration {i}\", loss)\n",
    "            print(f\"time taken: {time.time() - start_time}\")\n",
    "            \n",
    "        elif self.method == \"minibatch\":\n",
    "            start_time = time.time()\n",
    "            batch_size = int(0.3 * X.shape[0])\n",
    "            for i in range(self.max_iter):\n",
    "                ix = np.random.randint(0, X.shape[0]) #<----with replacement\n",
    "                batch_X = X[ix:ix+batch_size]\n",
    "                batch_Y = Y[ix:ix+batch_size]\n",
    "                loss, grad = self.gradient(batch_X, batch_Y)\n",
    "                self.losses.append(loss)\n",
    "                self.W = self.W - self.alpha * grad\n",
    "                if i % 500 == 0:\n",
    "                    print(f\"Loss at iteration {i}\", loss)\n",
    "            print(f\"time taken: {time.time() - start_time}\")\n",
    "            \n",
    "        elif self.method == \"sto\":\n",
    "            start_time = time.time()\n",
    "            list_of_used_ix = []\n",
    "            for i in range(self.max_iter):\n",
    "                idx = np.random.randint(X.shape[0])\n",
    "                while i in list_of_used_ix:\n",
    "                    idx = np.random.randint(X.shape[0])\n",
    "                X_train = X[idx, :].reshape(1, -1)\n",
    "                Y_train = Y[idx]\n",
    "                loss, grad = self.gradient(X_train, Y_train)\n",
    "                self.losses.append(loss)\n",
    "                self.W = self.W - self.alpha * grad\n",
    "                \n",
    "                list_of_used_ix.append(i)\n",
    "                if len(list_of_used_ix) == X.shape[0]:\n",
    "                    list_of_used_ix = []\n",
    "                if i % 500 == 0:\n",
    "                    print(f\"Loss at iteration {i}\", loss)\n",
    "            print(f\"time taken: {time.time() - start_time}\")\n",
    "            \n",
    "        else:\n",
    "            raise ValueError('Method must be one of the followings: \"batch\", \"minibatch\" or \"sto\".')\n",
    "        \n",
    "        \n",
    "    def gradient(self, X, Y):\n",
    "        m = X.shape[0]\n",
    "        h = self.h_theta(X, self.W)\n",
    "        loss = - np.sum(Y*np.log(h)) / m\n",
    "        error = h - Y\n",
    "        grad = self.softmax_grad(X, error)\n",
    "        return loss, grad\n",
    "\n",
    "    def softmax(self, theta_t_x):\n",
    "        return np.exp(theta_t_x) / np.sum(np.exp(theta_t_x), axis=1, keepdims=True)\n",
    "\n",
    "    def softmax_grad(self, X, error):\n",
    "        return  X.T @ error\n",
    "\n",
    "    def h_theta(self, X, W):\n",
    "        '''\n",
    "        Input:\n",
    "            X shape: (m, n)\n",
    "            w shape: (n, k)\n",
    "        Returns:\n",
    "            yhat shape: (m, k)\n",
    "        '''\n",
    "        return self.softmax(X @ W)\n",
    "    \n",
    "    def predict(self, X_test):\n",
    "        return np.argmax(self.h_theta(X_test, self.W), axis=1)\n",
    "    \n",
    "    def accuracy(self, Y_true, Y_pred):\n",
    "        # Ensure Y_true and Y_pred have the same shape\n",
    "        if Y_true.shape != Y_pred.shape:\n",
    "            raise ValueError(\"Input shapes of Y_true and Y_pred must be the same.\")\n",
    "        \n",
    "        # Calculate the number of correct predictions\n",
    "        num_correct = np.sum(Y_true == Y_pred)\n",
    "        \n",
    "        # Calculate the accuracy\n",
    "        accuracy = num_correct / Y_true.shape[0]\n",
    "        \n",
    "        return accuracy\n",
    "    \n",
    "    def precision_recall_f1(self, Y_true, Y_pred):\n",
    "        # Ensure Y_true and Y_pred have the same shape\n",
    "        if Y_true.shape != Y_pred.shape:\n",
    "            raise ValueError(\"Input shapes of Y_true and Y_pred must be the same.\")\n",
    "        \n",
    "        num_classes = self.k\n",
    "        precision_scores = []\n",
    "        recall_scores = []\n",
    "        f1_scores = []\n",
    "\n",
    "        for c in range(num_classes):\n",
    "            # Calculate True Positives, False Positives, True Negatives, and False Negatives for class c\n",
    "            TP_c = np.sum((Y_true == c) & (Y_pred == c))\n",
    "            FP_c = np.sum((Y_true != c) & (Y_pred == c))\n",
    "            TN_c = np.sum((Y_true != c) & (Y_pred != c))\n",
    "            FN_c = np.sum((Y_true == c) & (Y_pred != c))\n",
    "\n",
    "            # Calculate precision, recall, and F1-score for class c\n",
    "            precision_c = TP_c / (TP_c + FP_c) if (TP_c + FP_c) > 0 else 0.0\n",
    "            recall_c = TP_c / (TP_c + FN_c) if (TP_c + FN_c) > 0 else 0.0\n",
    "            f1_c = 2 * precision_c * recall_c / (precision_c + recall_c) if (precision_c + recall_c) > 0 else 0.0\n",
    "\n",
    "            precision_scores.append(precision_c)\n",
    "            recall_scores.append(recall_c)\n",
    "            f1_scores.append(f1_c)\n",
    "\n",
    "        return precision_scores, recall_scores, f1_scores\n",
    "    \n",
    "    def macro_precision_recall_f1(self, Y_true, Y_pred):\n",
    "        # Ensure Y_true and Y_pred have the same shape\n",
    "        if Y_true.shape != Y_pred.shape:\n",
    "            raise ValueError(\"Input shapes of Y_true and Y_pred must be the same.\")\n",
    "        \n",
    "        num_classes = self.k\n",
    "        precision_scores, recall_scores, f1_scores = self.precision_recall_f1(Y_true, Y_pred)\n",
    "\n",
    "        # Calculate macro precision, macro recall, and macro F1-score\n",
    "        macro_precision = sum(precision_scores) / num_classes\n",
    "        macro_recall = sum(recall_scores) / num_classes\n",
    "        macro_f1 = sum(f1_scores) / num_classes\n",
    "\n",
    "        return macro_precision, macro_recall, macro_f1\n",
    "    \n",
    "    def weighted_precision_recall_f1(self, Y_true, Y_pred, class_weights):\n",
    "        # Ensure Y_true and Y_pred have the same shape\n",
    "        if Y_true.shape != Y_pred.shape:\n",
    "            raise ValueError(\"Input shapes of Y_true and Y_pred must be the same.\")\n",
    "        \n",
    "        num_classes = self.k\n",
    "        precision_scores, recall_scores, f1_scores = self.precision_recall_f1(Y_true, Y_pred)\n",
    "\n",
    "        # Calculate weighted precision, weighted recall, and weighted F1-score\n",
    "        weighted_precision = sum(p * w for p, w in zip(precision_scores, class_weights))\n",
    "        weighted_recall = sum(r * w for r, w in zip(recall_scores, class_weights))\n",
    "        weighted_f1 = sum(f * w for f, w in zip(f1_scores, class_weights))\n",
    "\n",
    "        return weighted_precision, weighted_recall, weighted_f1\n",
    "\n",
    "    \n",
    "    def plot(self):\n",
    "        plt.plot(np.arange(len(self.losses)) , self.losses, label = \"Train Losses\")\n",
    "        plt.title(\"Losses\")\n",
    "        plt.xlabel(\"epoch\")\n",
    "        plt.ylabel(\"losses\")\n",
    "        plt.legend()"
   ]
  },
  {
   "cell_type": "code",
   "execution_count": 911,
   "id": "29135977",
   "metadata": {},
   "outputs": [],
   "source": [
    "class RidgeLogisticRegression(LogisticRegression):\n",
    "\n",
    "    def __init__(self, k, n, method, alpha=0.001, max_iter=50000, lambda_=1.0):\n",
    "        super().__init__(k, n, method, alpha, max_iter)\n",
    "        self.lambda_ = lambda_\n",
    "\n",
    "    def gradient(self, X, Y):\n",
    "        m = X.shape[0]\n",
    "        h = self.h_theta(X, self.W)\n",
    "        loss = -np.sum(Y * np.log(h)) / m\n",
    "        error = h - Y\n",
    "\n",
    "        # Calculate the gradient with the L2 regularization term\n",
    "        grad = self.softmax_grad(X, error) + 2 * self.lambda_ * self.W\n",
    "\n",
    "        return loss, grad\n"
   ]
  },
  {
   "cell_type": "code",
   "execution_count": 912,
   "id": "c7f61071",
   "metadata": {},
   "outputs": [
    {
     "data": {
      "text/plain": [
       "((5619, 6), (5619, 4))"
      ]
     },
     "execution_count": 912,
     "metadata": {},
     "output_type": "execute_result"
    }
   ],
   "source": [
    "X_train_np.shape, y_train_np.shape"
   ]
  },
  {
   "cell_type": "code",
   "execution_count": 913,
   "id": "3ff09273",
   "metadata": {},
   "outputs": [
    {
     "name": "stdout",
     "output_type": "stream",
     "text": [
      "Loss at iteration 0 1.4250615915615197\n",
      "Loss at iteration 500 1.167717827503774\n",
      "Loss at iteration 1000 1.166372790493906\n",
      "Loss at iteration 1500 1.16621602169308\n",
      "Loss at iteration 2000 1.1661968772571831\n",
      "Loss at iteration 2500 1.1661945262483076\n",
      "Loss at iteration 3000 1.1661942373376712\n",
      "Loss at iteration 3500 1.1661942018310494\n",
      "Loss at iteration 4000 1.1661941974673016\n",
      "Loss at iteration 4500 1.1661941969309975\n",
      "Loss at iteration 5000 1.1661941968650866\n",
      "Loss at iteration 5500 1.166194196856986\n",
      "Loss at iteration 6000 1.1661941968559904\n",
      "Loss at iteration 6500 1.1661941968558682\n",
      "Loss at iteration 7000 1.166194196855853\n",
      "Loss at iteration 7500 1.166194196855851\n",
      "Loss at iteration 8000 1.166194196855851\n",
      "Loss at iteration 8500 1.166194196855851\n",
      "Loss at iteration 9000 1.1661941968558505\n",
      "Loss at iteration 9500 1.166194196855851\n",
      "Loss at iteration 10000 1.166194196855851\n",
      "Loss at iteration 10500 1.166194196855851\n",
      "Loss at iteration 11000 1.166194196855851\n",
      "Loss at iteration 11500 1.166194196855851\n",
      "Loss at iteration 12000 1.1661941968558505\n",
      "Loss at iteration 12500 1.1661941968558507\n",
      "Loss at iteration 13000 1.166194196855851\n",
      "Loss at iteration 13500 1.166194196855851\n",
      "Loss at iteration 14000 1.1661941968558507\n",
      "Loss at iteration 14500 1.1661941968558505\n",
      "Loss at iteration 15000 1.166194196855851\n",
      "Loss at iteration 15500 1.166194196855851\n",
      "Loss at iteration 16000 1.1661941968558507\n",
      "Loss at iteration 16500 1.1661941968558507\n",
      "Loss at iteration 17000 1.166194196855851\n",
      "Loss at iteration 17500 1.1661941968558507\n",
      "Loss at iteration 18000 1.166194196855851\n",
      "Loss at iteration 18500 1.166194196855851\n",
      "Loss at iteration 19000 1.166194196855851\n",
      "Loss at iteration 19500 1.1661941968558507\n",
      "Loss at iteration 20000 1.1661941968558507\n",
      "Loss at iteration 20500 1.166194196855851\n",
      "Loss at iteration 21000 1.166194196855851\n",
      "Loss at iteration 21500 1.1661941968558507\n",
      "Loss at iteration 22000 1.1661941968558507\n",
      "Loss at iteration 22500 1.1661941968558507\n",
      "Loss at iteration 23000 1.1661941968558505\n",
      "Loss at iteration 23500 1.166194196855851\n",
      "Loss at iteration 24000 1.1661941968558507\n",
      "Loss at iteration 24500 1.1661941968558505\n",
      "Loss at iteration 25000 1.166194196855851\n",
      "Loss at iteration 25500 1.166194196855851\n",
      "Loss at iteration 26000 1.166194196855851\n",
      "Loss at iteration 26500 1.166194196855851\n",
      "Loss at iteration 27000 1.166194196855851\n",
      "Loss at iteration 27500 1.1661941968558507\n",
      "Loss at iteration 28000 1.166194196855851\n",
      "Loss at iteration 28500 1.166194196855851\n",
      "Loss at iteration 29000 1.1661941968558505\n",
      "Loss at iteration 29500 1.166194196855851\n",
      "Loss at iteration 30000 1.166194196855851\n",
      "Loss at iteration 30500 1.166194196855851\n",
      "Loss at iteration 31000 1.1661941968558505\n",
      "Loss at iteration 31500 1.166194196855851\n",
      "Loss at iteration 32000 1.166194196855851\n",
      "Loss at iteration 32500 1.1661941968558507\n",
      "Loss at iteration 33000 1.1661941968558505\n",
      "Loss at iteration 33500 1.166194196855851\n",
      "Loss at iteration 34000 1.166194196855851\n",
      "Loss at iteration 34500 1.166194196855851\n",
      "Loss at iteration 35000 1.1661941968558507\n",
      "Loss at iteration 35500 1.1661941968558505\n",
      "Loss at iteration 36000 1.166194196855851\n",
      "Loss at iteration 36500 1.1661941968558505\n",
      "Loss at iteration 37000 1.166194196855851\n",
      "Loss at iteration 37500 1.166194196855851\n",
      "Loss at iteration 38000 1.1661941968558505\n",
      "Loss at iteration 38500 1.166194196855851\n",
      "Loss at iteration 39000 1.166194196855851\n",
      "Loss at iteration 39500 1.1661941968558505\n",
      "Loss at iteration 40000 1.166194196855851\n",
      "Loss at iteration 40500 1.1661941968558505\n",
      "Loss at iteration 41000 1.1661941968558507\n",
      "Loss at iteration 41500 1.166194196855851\n",
      "Loss at iteration 42000 1.1661941968558505\n",
      "Loss at iteration 42500 1.166194196855851\n",
      "Loss at iteration 43000 1.166194196855851\n",
      "Loss at iteration 43500 1.166194196855851\n",
      "Loss at iteration 44000 1.1661941968558505\n",
      "Loss at iteration 44500 1.166194196855851\n",
      "Loss at iteration 45000 1.166194196855851\n",
      "Loss at iteration 45500 1.1661941968558505\n",
      "Loss at iteration 46000 1.1661941968558507\n",
      "Loss at iteration 46500 1.1661941968558507\n",
      "Loss at iteration 47000 1.166194196855851\n",
      "Loss at iteration 47500 1.1661941968558507\n",
      "Loss at iteration 48000 1.1661941968558507\n",
      "Loss at iteration 48500 1.1661941968558507\n",
      "Loss at iteration 49000 1.166194196855851\n",
      "Loss at iteration 49500 1.1661941968558507\n",
      "time taken: 11.074277400970459\n"
     ]
    }
   ],
   "source": [
    "# Instantiate RidgeLogisticRegression with L2 regularization\n",
    "ridge_model = RidgeLogisticRegression(k=4, n=6, method=\"batch\", lambda_=0.1)\n",
    "\n",
    "# Train the model\n",
    "ridge_model.fit(X_train_np, y_train_np)\n"
   ]
  },
  {
   "cell_type": "code",
   "execution_count": 914,
   "id": "568d2050",
   "metadata": {},
   "outputs": [
    {
     "name": "stdout",
     "output_type": "stream",
     "text": [
      "Predicted Class Labels:\n",
      "[0 2 0 ... 0 2 2]\n"
     ]
    }
   ],
   "source": [
    "\n",
    "# Make predictions on the test data\n",
    "ridge_Y_test_pred = ridge_model.predict(X_test_np)\n",
    "\n",
    "# Calculate metrics using custom RidgeLogisticRegression\n",
    "# ...# Display the predicted class labels\n",
    "print(\"Predicted Class Labels:\")\n",
    "print(ridge_Y_test_pred)"
   ]
  },
  {
   "cell_type": "code",
   "execution_count": 915,
   "id": "516580b1",
   "metadata": {},
   "outputs": [
    {
     "data": {
      "image/png": "[encoded data removed]",
      "text/plain": [
       "<Figure size 640x480 with 1 Axes>"
      ]
     },
     "metadata": {},
     "output_type": "display_data"
    }
   ],
   "source": [
    "ridge_model.plot()"
   ]
  },
  {
   "cell_type": "code",
   "execution_count": 916,
   "id": "9024402b",
   "metadata": {},
   "outputs": [
    {
     "data": {
      "text/plain": [
       "((2409,), (2409, 4))"
      ]
     },
     "execution_count": 916,
     "metadata": {},
     "output_type": "execute_result"
    }
   ],
   "source": [
    "ridge_Y_test_pred.shape, y_test_np.shape\n",
    "((2409,), (2409, 4))"
   ]
  },
  {
   "cell_type": "code",
   "execution_count": 917,
   "id": "faed425b",
   "metadata": {},
   "outputs": [
    {
     "data": {
      "text/plain": [
       "0.5794935657949356"
      ]
     },
     "metadata": {},
     "output_type": "display_data"
    }
   ],
   "source": [
    "from sklearn.metrics import accuracy_score\n",
    "#Accuracy Calculation from Sklearn\n",
    "accuracy_sklrn = accuracy_score(y_test_np.argmax(axis=1), ridge_Y_test_pred)\n",
    "display(accuracy)"
   ]
  },
  {
   "cell_type": "code",
   "execution_count": 918,
   "id": "337a072d",
   "metadata": {},
   "outputs": [
    {
     "data": {
      "text/plain": [
       "0.5504358655043586"
      ]
     },
     "metadata": {},
     "output_type": "display_data"
    }
   ],
   "source": [
    "# Accuracy calculation from our scratch function inside LogisticRegression class \n",
    "accuracy_scratch = ridge_model.accuracy(y_test_np.argmax(axis=1), ridge_Y_test_pred)\n",
    "display(accuracy_scratch)"
   ]
  },
  {
   "cell_type": "code",
   "execution_count": 919,
   "id": "c8a5215e",
   "metadata": {},
   "outputs": [
    {
     "data": {
      "text/html": [
       "<div>\n",
       "<style scoped>\n",
       "    .dataframe tbody tr th:only-of-type {\n",
       "        vertical-align: middle;\n",
       "    }\n",
       "\n",
       "    .dataframe tbody tr th {\n",
       "        vertical-align: top;\n",
       "    }\n",
       "\n",
       "    .dataframe thead th {\n",
       "        text-align: right;\n",
       "    }\n",
       "</style>\n",
       "<table border=\"1\" class=\"dataframe\">\n",
       "  <thead>\n",
       "    <tr style=\"text-align: right;\">\n",
       "      <th></th>\n",
       "      <th>Class</th>\n",
       "      <th>Precision</th>\n",
       "      <th>Recall</th>\n",
       "      <th>F1-Score</th>\n",
       "    </tr>\n",
       "  </thead>\n",
       "  <tbody>\n",
       "    <tr>\n",
       "      <th>0</th>\n",
       "      <td>Class 0</td>\n",
       "      <td>0.657016</td>\n",
       "      <td>0.932070</td>\n",
       "      <td>0.770738</td>\n",
       "    </tr>\n",
       "    <tr>\n",
       "      <th>1</th>\n",
       "      <td>Class 1</td>\n",
       "      <td>0.555556</td>\n",
       "      <td>0.007974</td>\n",
       "      <td>0.015723</td>\n",
       "    </tr>\n",
       "    <tr>\n",
       "      <th>2</th>\n",
       "      <td>Class 2</td>\n",
       "      <td>0.401472</td>\n",
       "      <td>0.875223</td>\n",
       "      <td>0.550448</td>\n",
       "    </tr>\n",
       "    <tr>\n",
       "      <th>3</th>\n",
       "      <td>Class 3</td>\n",
       "      <td>0.860215</td>\n",
       "      <td>0.408163</td>\n",
       "      <td>0.553633</td>\n",
       "    </tr>\n",
       "  </tbody>\n",
       "</table>\n",
       "</div>"
      ],
      "text/plain": [
       "     Class  Precision    Recall  F1-Score\n",
       "0  Class 0   0.657016  0.932070  0.770738\n",
       "1  Class 1   0.555556  0.007974  0.015723\n",
       "2  Class 2   0.401472  0.875223  0.550448\n",
       "3  Class 3   0.860215  0.408163  0.553633"
      ]
     },
     "metadata": {},
     "output_type": "display_data"
    }
   ],
   "source": [
    "precision, recall, f1 = ridge_model.precision_recall_f1(y_test_np.argmax(axis=1), ridge_Y_test_pred)\n",
    "# Create a DataFrame\n",
    "metrics_df = pd.DataFrame({\n",
    "    'Class': [f'Class {i}' for i in range(len(precision))],\n",
    "    'Precision': precision,\n",
    "    'Recall': recall,\n",
    "    'F1-Score': f1\n",
    "})\n",
    "\n",
    "# Print the DataFrame\n",
    "display(metrics_df)"
   ]
  },
  {
   "cell_type": "code",
   "execution_count": 921,
   "id": "06638d7c",
   "metadata": {},
   "outputs": [
    {
     "data": {
      "text/html": [
       "<div>\n",
       "<style scoped>\n",
       "    .dataframe tbody tr th:only-of-type {\n",
       "        vertical-align: middle;\n",
       "    }\n",
       "\n",
       "    .dataframe tbody tr th {\n",
       "        vertical-align: top;\n",
       "    }\n",
       "\n",
       "    .dataframe thead th {\n",
       "        text-align: right;\n",
       "    }\n",
       "</style>\n",
       "<table border=\"1\" class=\"dataframe\">\n",
       "  <thead>\n",
       "    <tr style=\"text-align: right;\">\n",
       "      <th></th>\n",
       "      <th>Metric</th>\n",
       "      <th>Value</th>\n",
       "    </tr>\n",
       "  </thead>\n",
       "  <tbody>\n",
       "    <tr>\n",
       "      <th>0</th>\n",
       "      <td>Macro Precision</td>\n",
       "      <td>0.618564</td>\n",
       "    </tr>\n",
       "    <tr>\n",
       "      <th>1</th>\n",
       "      <td>Macro Recall</td>\n",
       "      <td>0.555858</td>\n",
       "    </tr>\n",
       "    <tr>\n",
       "      <th>2</th>\n",
       "      <td>Macro F1-Score</td>\n",
       "      <td>0.472636</td>\n",
       "    </tr>\n",
       "  </tbody>\n",
       "</table>\n",
       "</div>"
      ],
      "text/plain": [
       "            Metric     Value\n",
       "0  Macro Precision  0.618564\n",
       "1     Macro Recall  0.555858\n",
       "2   Macro F1-Score  0.472636"
      ]
     },
     "metadata": {},
     "output_type": "display_data"
    }
   ],
   "source": [
    "# Assuming ridge_model.macro_precision_recall_f1 returns macro metrics\n",
    "macro_precision, macro_recall, macro_f1 = ridge_model.macro_precision_recall_f1(y_test_np.argmax(axis=1), ridge_Y_test_pred)\n",
    "\n",
    "# Create a DataFrame for macro metrics\n",
    "macro_metrics_df = pd.DataFrame({\n",
    "    'Metric': ['Macro Precision', 'Macro Recall', 'Macro F1-Score'],\n",
    "    'Value': [macro_precision, macro_recall, macro_f1]\n",
    "})\n",
    "\n",
    "# Display the combined DataFrame as a table\n",
    "display(macro_metrics_df)"
   ]
  },
  {
   "cell_type": "code",
   "execution_count": 922,
   "id": "cf3af929",
   "metadata": {},
   "outputs": [
    {
     "data": {
      "text/html": [
       "<div>\n",
       "<style scoped>\n",
       "    .dataframe tbody tr th:only-of-type {\n",
       "        vertical-align: middle;\n",
       "    }\n",
       "\n",
       "    .dataframe tbody tr th {\n",
       "        vertical-align: top;\n",
       "    }\n",
       "\n",
       "    .dataframe thead th {\n",
       "        text-align: right;\n",
       "    }\n",
       "</style>\n",
       "<table border=\"1\" class=\"dataframe\">\n",
       "  <thead>\n",
       "    <tr style=\"text-align: right;\">\n",
       "      <th></th>\n",
       "      <th>Metric</th>\n",
       "      <th>Value</th>\n",
       "    </tr>\n",
       "  </thead>\n",
       "  <tbody>\n",
       "    <tr>\n",
       "      <th>0</th>\n",
       "      <td>Weighted Precision</td>\n",
       "      <td>0.636429</td>\n",
       "    </tr>\n",
       "    <tr>\n",
       "      <th>1</th>\n",
       "      <td>Weighted Recall</td>\n",
       "      <td>0.486300</td>\n",
       "    </tr>\n",
       "    <tr>\n",
       "      <th>2</th>\n",
       "      <td>Weighted F1-Score</td>\n",
       "      <td>0.435044</td>\n",
       "    </tr>\n",
       "  </tbody>\n",
       "</table>\n",
       "</div>"
      ],
      "text/plain": [
       "               Metric     Value\n",
       "0  Weighted Precision  0.636429\n",
       "1     Weighted Recall  0.486300\n",
       "2   Weighted F1-Score  0.435044"
      ]
     },
     "metadata": {},
     "output_type": "display_data"
    }
   ],
   "source": [
    "# Assuming ridge_model.weighted_precision_recall_f1 returns weighted metrics\n",
    "weighted_precision, weighted_recall, weighted_f1 = ridge_model.weighted_precision_recall_f1(y_test_np.argmax(axis=1), ridge_Y_test_pred, [0.2, 0.3, 0.2, 0.3])\n",
    "\n",
    "# Create a DataFrame for weighted metrics\n",
    "weighted_metrics_df = pd.DataFrame({\n",
    "    'Metric': ['Weighted Precision', 'Weighted Recall', 'Weighted F1-Score'],\n",
    "    'Value': [weighted_precision, weighted_recall, weighted_f1]\n",
    "})\n",
    "\n",
    "\n",
    "\n",
    "# Display the combined DataFrame as a table\n",
    "display(weighted_metrics_df)\n"
   ]
  }
 ],
 "metadata": {
  "kernelspec": {
   "display_name": "machine-learning",
   "language": "python",
   "name": "python3"
  },
  "language_info": {
   "codemirror_mode": {
    "name": "ipython",
    "version": 3
   },
   "file_extension": ".py",
   "mimetype": "text/x-python",
   "name": "python",
   "nbconvert_exporter": "python",
   "pygments_lexer": "ipython3",
   "version": "3.8.18"
  }
 },
 "nbformat": 4,
 "nbformat_minor": 5
}
